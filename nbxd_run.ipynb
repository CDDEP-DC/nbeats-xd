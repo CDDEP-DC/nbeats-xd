{
 "cells": [
  {
   "cell_type": "code",
   "execution_count": null,
   "metadata": {},
   "outputs": [],
   "source": [
    "## ***\n",
    "## NOTE: modify common/torch/ops.py for your gpu\n",
    "## ***\n",
    "\n",
    "## versions:\n",
    "## Python    : 3.11.5\n",
    "## numpy     : 1.26.0\n",
    "## torch     : 2.1.0\n",
    "## pandas    : 2.1.1\n",
    "\n",
    "# licensed under the Creative Commons - Attribution-NonCommercial 4.0\n",
    "# International license (CC BY-NC 4.0):\n",
    "# https://creativecommons.org/licenses/by-nc/4.0/. "
   ]
  },
  {
   "cell_type": "code",
   "execution_count": 1,
   "metadata": {},
   "outputs": [],
   "source": [
    "import numpy as np\n",
    "import pandas as pd\n",
    "import torch as t\n",
    "import matplotlib.pyplot as plt\n",
    "import os\n",
    "\n",
    "from common.torch.snapshots import SnapshotManager\n",
    "\n",
    "from covid_hub.data_utils import download_training_data\n",
    "from covid_hub.forecast import Struct, default_settings, run_tests, generate_ensemble\n",
    "from covid_hub.forecast import pickle_results, read_pickle, plotpred, output_figs, output_csv\n",
    "from covid_hub.forecast import load_training, normalize_training, make_training_fn, ensemble_loop, generate_quantiles\n"
   ]
  },
  {
   "cell_type": "code",
   "execution_count": null,
   "metadata": {},
   "outputs": [],
   "source": []
  },
  {
   "cell_type": "code",
   "execution_count": 2,
   "metadata": {},
   "outputs": [
    {
     "data": {
      "text/plain": [
       "iterations = 400\n",
       "init_LR = 0.00025\n",
       "batch_size = 256\n",
       "lookback_opts = [3, 4, 5, 6]\n",
       "random_reps = 5\n",
       "horizon = 40\n",
       "data_suffix = 3ma\n",
       "targ_var = h\n",
       "sqrt_transform = True\n",
       "lfn_name = t_nll\n",
       "force_positive_forecast = False\n",
       "model_prefix = t_sqrt\n",
       "normalize_target = False\n",
       "use_windowed_norm = True\n",
       "use_static_cat = False\n",
       "exog_vars = ['doy', 'vacc_rate']\n",
       "nbeats_stacks = 12\n",
       "nbeats_hidden_dim = 512\n",
       "nbeats_dropout = 0.2\n",
       "encoder_k = 5\n",
       "encoder_hidden_dim = 128\n",
       "encoder_dropout = 0.2\n",
       "qtiles = [0.01, 0.025, 0.05, 0.1, 0.15, 0.2, 0.25, 0.3, 0.35, 0.4, 0.45, 0.5, 0.55, 0.6, 0.65, 0.7, 0.75, 0.8, 0.85, 0.9, 0.95, 0.975, 0.99]\n",
       "delete_models = False"
      ]
     },
     "execution_count": 2,
     "metadata": {},
     "output_type": "execute_result"
    }
   ],
   "source": [
    "settings = default_settings()\n",
    "settings"
   ]
  },
  {
   "cell_type": "code",
   "execution_count": null,
   "metadata": {},
   "outputs": [],
   "source": [
    "## if running many tests and not enough storage:\n",
    "#settings.delete_models = True"
   ]
  },
  {
   "cell_type": "code",
   "execution_count": null,
   "metadata": {},
   "outputs": [],
   "source": []
  },
  {
   "cell_type": "code",
   "execution_count": 4,
   "metadata": {},
   "outputs": [],
   "source": [
    "generate_current_forecast = False"
   ]
  },
  {
   "cell_type": "code",
   "execution_count": null,
   "metadata": {},
   "outputs": [],
   "source": [
    "if generate_current_forecast:\n",
    "    ## get the latest training data\n",
    "    download_training_data()\n",
    "\n",
    "    cut = None ## use all avail data\n",
    "    forecast_delay = 10 ## days from end of most recent data to expected \"day 0\" of forecast\n",
    "    \n",
    "    rstate = generate_ensemble(settings, cut)\n",
    "    pickle_results(rstate)\n",
    "    output_figs(rstate)\n",
    "    output_csv(rstate, forecast_delay)"
   ]
  },
  {
   "cell_type": "code",
   "execution_count": null,
   "metadata": {},
   "outputs": [],
   "source": []
  },
  {
   "cell_type": "code",
   "execution_count": 3,
   "metadata": {},
   "outputs": [
    {
     "data": {
      "text/plain": [
       "1068"
      ]
     },
     "execution_count": 3,
     "metadata": {},
     "output_type": "execute_result"
    }
   ],
   "source": [
    "#rstate = Struct()\n",
    "#load_training(rstate, settings, None)\n",
    "## '2023-06-24' --> forecast day 0 = 10 day delay from data end (date on covid hub = 8 days after data end)\n",
    "#np.where(rstate.data_index == '2023-06-24')[0][0] - 7\n",
    "## <-- '2023-06-10' : forecast day 0 = 2 day delay from data end (date on covid hub = data end date)\n",
    "#np.where(rstate.data_index == '2022-10-01')[0][0] + 1\n"
   ]
  },
  {
   "cell_type": "code",
   "execution_count": null,
   "metadata": {},
   "outputs": [],
   "source": [
    "test_all_2023 = False"
   ]
  },
  {
   "cell_type": "code",
   "execution_count": 15,
   "metadata": {},
   "outputs": [],
   "source": [
    "if test_all_2023:\n",
    "    ## '2023-06-24' --> forecast day 0 = 10 day delay from data end (date on covid hub = 8 days after data end)\n",
    "    ## <-- '2023-06-10' : forecast day 0 = 2 day delay from data end (date on covid hub = data end date)\n",
    "    test_cut_vals1 = list(range(901,1068,7))\n",
    "    test_cut_vals2 = list(range(1068,1258,7))\n",
    "    test_cut_vals = test_cut_vals1 + test_cut_vals2\n",
    "    forecast_delay_days = [10 if x > 1067 else 2 for x in test_cut_vals]\n",
    "    run_tests(settings, test_cut_vals, forecast_delay_days)\n"
   ]
  },
  {
   "cell_type": "code",
   "execution_count": null,
   "metadata": {},
   "outputs": [],
   "source": []
  },
  {
   "cell_type": "code",
   "execution_count": null,
   "metadata": {},
   "outputs": [],
   "source": [
    "test_cut_vals = [1278, 1271, 1264, 1208, 1152, 1145, 1096] + [950, 908, 901, 740, 733, 642]\n",
    "test_cut_vals = [908, 901, 740, 733]\n",
    "\n",
    "test_cut_vals = [1187,1180,1173,1131,1068] + [1062, 1055, 1041, 1020]\n",
    "test_cut_vals = [929, 922, 845, 831, 817, 810]\n",
    "test_cut_vals = [1187,1131,1062,1020,929,922,845]\n",
    "\n",
    "forecast_delay_days = [10 if x > 1067 else 2 for x in test_cut_vals]\n",
    "settings.random_reps = 1\n",
    "run_tests(settings, test_cut_vals, forecast_delay_days)\n"
   ]
  },
  {
   "cell_type": "code",
   "execution_count": null,
   "metadata": {},
   "outputs": [],
   "source": [
    "test_cut_vals = [1020, 922, 1131, 1208, 1264]\n",
    "forecast_delay_days = [10 if x > 1067 else 2 for x in test_cut_vals]\n",
    "settings.model_prefix = \"log\"\n",
    "settings.targ_var = \"h_log\"\n",
    "settings.random_reps = 1\n",
    "run_tests(settings, test_cut_vals, forecast_delay_days)\n"
   ]
  },
  {
   "cell_type": "code",
   "execution_count": null,
   "metadata": {},
   "outputs": [],
   "source": [
    "#test_cut_vals = [1278, 1271, 1152, 1145, 1096] + [950, 908, 901] + [1187, 1062, 929, 1180, 1173, 1068, 1055, 1041]\n",
    "test_cut_vals = [1264, 1208, 1020, 1131]\n",
    "forecast_delay_days = [10 if x > 1067 else 2 for x in test_cut_vals]\n",
    "\n",
    "settings.model_prefix = \"sqrt\"\n",
    "settings.random_reps = 1\n",
    "run_tests(settings, test_cut_vals, forecast_delay_days)\n"
   ]
  },
  {
   "cell_type": "code",
   "execution_count": null,
   "metadata": {},
   "outputs": [],
   "source": []
  },
  {
   "cell_type": "code",
   "execution_count": null,
   "metadata": {},
   "outputs": [],
   "source": [
    "print(list(rstate.fc_med.keys()), '\\n', settings.lookback_opts)"
   ]
  },
  {
   "cell_type": "code",
   "execution_count": null,
   "metadata": {},
   "outputs": [],
   "source": [
    "horizon = rstate.settings.horizon\n",
    "vals_train = rstate.vals_train ## read only\n",
    "test_targets = rstate.test_targets ## read only\n",
    "us_train = vals_train[\"nat_scale\"].sum(axis=0,keepdims=True)\n",
    "us_test = test_targets.sum(axis=0,keepdims=True) if test_targets is not None else None\n",
    "x0 = rstate.cut - 400 if rstate.cut is not None else vals_train[\"nat_scale\"].shape[1] - 400\n",
    "\n",
    "#k = \"median\"\n",
    "k = [*rstate.fc_med.keys()][3]\n",
    "loc_idx = 20\n",
    "plotpred(rstate.fc_med, k, loc_idx, vals_train[\"nat_scale\"], test_targets, horizon, rstate.fc_lower, rstate.fc_upper, x0)\n",
    "plotpred(rstate.us_med, k, 0, us_train, us_test, horizon, rstate.us_lower, rstate.us_upper, x0)\n"
   ]
  },
  {
   "cell_type": "code",
   "execution_count": null,
   "metadata": {},
   "outputs": [],
   "source": []
  },
  {
   "cell_type": "code",
   "execution_count": null,
   "metadata": {},
   "outputs": [],
   "source": [
    "#f = \"https://media.githubusercontent.com/media/reichlab/covid19-forecast-hub/master/data-truth/truth-Incident%20Hospitalizations.csv\"\n",
    "#df = pd.read_csv(f,dtype={\"location\":str})\n",
    "#d_str = pd.to_datetime(df.date).max().strftime(\"%m-%d\")\n",
    "#df.to_csv(\"storage/truth-inc-hosp-\" + d_str + \".csv\", index=False)"
   ]
  },
  {
   "cell_type": "code",
   "execution_count": null,
   "metadata": {},
   "outputs": [],
   "source": [
    "print([k for k in rstate.mu_fc])"
   ]
  },
  {
   "cell_type": "code",
   "execution_count": null,
   "metadata": {},
   "outputs": [],
   "source": [
    "k = [k for k in rstate.mu_fc][0]\n",
    "total_iter = rstate.settings.iterations\n",
    "snapshot_manager = SnapshotManager(snapshot_dir=os.path.join('hub_model_snapshots', k), total_iterations=total_iter)\n",
    "\n",
    "ldf = snapshot_manager.load_training_losses()\n",
    "_, ax = plt.subplots(figsize=[4,3])\n",
    "ax.plot(ldf)\n",
    "plt.show()"
   ]
  },
  {
   "cell_type": "code",
   "execution_count": null,
   "metadata": {},
   "outputs": [],
   "source": []
  }
 ],
 "metadata": {
  "kernelspec": {
   "display_name": "torch",
   "language": "python",
   "name": "python3"
  },
  "language_info": {
   "codemirror_mode": {
    "name": "ipython",
    "version": 3
   },
   "file_extension": ".py",
   "mimetype": "text/x-python",
   "name": "python",
   "nbconvert_exporter": "python",
   "pygments_lexer": "ipython3",
   "version": "3.11.5"
  }
 },
 "nbformat": 4,
 "nbformat_minor": 2
}
