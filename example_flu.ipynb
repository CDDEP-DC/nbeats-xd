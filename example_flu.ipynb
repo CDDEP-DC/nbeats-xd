{
 "cells": [
  {
   "cell_type": "code",
   "execution_count": 1,
   "metadata": {},
   "outputs": [],
   "source": [
    "\n",
    "## versions:\n",
    "## Python    : 3.11.5\n",
    "## numpy     : 1.26.0\n",
    "## torch     : 2.1.0\n",
    "## pandas    : 2.1.1\n",
    "\n",
    "# licensed under the Creative Commons - Attribution-NonCommercial 4.0\n",
    "# International license (CC BY-NC 4.0):\n",
    "# https://creativecommons.org/licenses/by-nc/4.0/. \n",
    "\n",
    "import os\n",
    "import io\n",
    "import sys\n",
    "import shutil\n",
    "import datetime\n",
    "from typing import Dict, List, Optional\n",
    "from copy import deepcopy\n",
    "\n",
    "import numpy as np\n",
    "import pandas as pd\n",
    "import torch as t\n",
    "from torch.utils.data import DataLoader\n",
    "from scipy import stats\n",
    "import matplotlib.pyplot as plt\n",
    "\n",
    "from common.torch.ops import empty_gpu_cache\n",
    "from common.sampler import ts_dataset\n",
    "from common.torch.snapshots import SnapshotManager\n",
    "from experiments.trainer import trainer_var\n",
    "from experiments.model import generic_dec_var\n",
    "from models.exog import TCN_encoder\n",
    "\n",
    "from data_utils.forecast import tryJSON, Struct, read_config, default_settings, make_training_fn\n",
    "from data_utils.forecast import init_target_data, load_exog_data, make_training_fn, generate_quantiles\n",
    "from data_utils.forecast import pickle_results, read_pickle, output_figs\n",
    "from data_utils.flu import domain_defaults, specify_ensemble, output_df, append_forecasts\n",
    "from data_utils.flu import read_flu_data, read_weather_data\n"
   ]
  },
  {
   "cell_type": "code",
   "execution_count": 2,
   "metadata": {},
   "outputs": [],
   "source": [
    "import warnings\n",
    "%config InlineBackend.figure_formats = [\"svg\"]\n",
    "plt.style.use(\"dark_background\")\n",
    "warnings.formatwarning = lambda message, category, *args, **kwargs: \"{}: {}\\n\".format(category.__name__, message)\n",
    "warnings.filterwarnings(\"ignore\",category=FutureWarning)\n",
    "#%load_ext watermark\n",
    "#%watermark -n -u -v -iv -w"
   ]
  },
  {
   "cell_type": "markdown",
   "metadata": {},
   "source": [
    "(if needed) read latest data"
   ]
  },
  {
   "cell_type": "code",
   "execution_count": null,
   "metadata": {},
   "outputs": [],
   "source": [
    "#idx, _ = read_flu_data()\n",
    "#read_weather_data(idx)"
   ]
  },
  {
   "cell_type": "markdown",
   "metadata": {},
   "source": [
    "`read_config()` returns configuration settings that don't change between models within an ensemble\n",
    "\n",
    "gets values from `config.json` if available\n",
    "\n",
    "see comments in `data_utils/forecast.py` for an explanation of entries"
   ]
  },
  {
   "cell_type": "code",
   "execution_count": 3,
   "metadata": {},
   "outputs": [],
   "source": [
    "rstate = read_config(\"config_flu.json\")"
   ]
  },
  {
   "cell_type": "code",
   "execution_count": null,
   "metadata": {},
   "outputs": [],
   "source": [
    "rstate"
   ]
  },
  {
   "cell_type": "markdown",
   "metadata": {},
   "source": [
    "you can change the settings here or in `config.json`\n",
    "\n",
    "e.g., `rstate.cut` sets the train/test split index (None = train on all data)"
   ]
  },
  {
   "cell_type": "code",
   "execution_count": 5,
   "metadata": {},
   "outputs": [],
   "source": [
    "rstate.cut = None #420 #447 #395 #420 #425 #430 "
   ]
  },
  {
   "cell_type": "markdown",
   "metadata": {},
   "source": [
    "`default_settings()` returns settings that can be changed between models within an ensemble\n",
    "\n",
    "gets defaults from `settings.json` if available\n",
    "\n",
    "see comments in `data_utils/forecast.py` for an explanation of entries"
   ]
  },
  {
   "cell_type": "code",
   "execution_count": 6,
   "metadata": {},
   "outputs": [],
   "source": [
    "settings = default_settings(\"settings_flu.json\")"
   ]
  },
  {
   "cell_type": "markdown",
   "metadata": {},
   "source": [
    "can change settings in json file or here"
   ]
  },
  {
   "cell_type": "code",
   "execution_count": 7,
   "metadata": {},
   "outputs": [],
   "source": [
    "#try increasing the learning rate when there's more training data\n",
    "#settings.init_LR = np.round(0.0001 + (rstate.cut - 901) * 4e-7, 7) "
   ]
  },
  {
   "cell_type": "markdown",
   "metadata": {},
   "source": [
    "we will change `settings.exog_vars` below, to specify which exogenous predictors to use"
   ]
  },
  {
   "cell_type": "code",
   "execution_count": null,
   "metadata": {},
   "outputs": [],
   "source": [
    "settings"
   ]
  },
  {
   "cell_type": "markdown",
   "metadata": {},
   "source": [
    "`domain_defaults()` is meant to be a user-defined function\n",
    "\n",
    "returns a struct with instructions for reading or generating exogenous variables\n",
    "\n",
    "see `data_utils/covid_hub.py` for an example/explanation"
   ]
  },
  {
   "cell_type": "code",
   "execution_count": 8,
   "metadata": {},
   "outputs": [],
   "source": [
    "domain_specs = domain_defaults()"
   ]
  },
  {
   "cell_type": "markdown",
   "metadata": {},
   "source": [
    "`exog_vars` specifies which exogenous predictors to use by default\n",
    "\n",
    "the predictors in `var_names` are loaded/generated and available to use"
   ]
  },
  {
   "cell_type": "code",
   "execution_count": null,
   "metadata": {},
   "outputs": [],
   "source": [
    "domain_specs"
   ]
  },
  {
   "cell_type": "markdown",
   "metadata": {},
   "source": [
    "`init_target_data()` reads in and optionally transforms target data\n",
    "\n",
    "sets timepoint indices and series identifiers; writes data to `rstate`\n"
   ]
  },
  {
   "cell_type": "code",
   "execution_count": 10,
   "metadata": {},
   "outputs": [],
   "source": [
    "rstate, settings = init_target_data(rstate, settings)"
   ]
  },
  {
   "cell_type": "markdown",
   "metadata": {},
   "source": [
    "`rstate.data_index` was set based on the index of `rstate.target_file`\n",
    "\n",
    "for exogenous data, the files and functions specified in `domain_defaults()` must generate data frames with the same index"
   ]
  },
  {
   "cell_type": "code",
   "execution_count": null,
   "metadata": {},
   "outputs": [],
   "source": [
    "rstate.data_dir+\"/\"+rstate.target_file, rstate.data_index"
   ]
  },
  {
   "cell_type": "markdown",
   "metadata": {},
   "source": [
    "`load_exog_data()` appends exogenous predictors to rstate, using the data index generated above"
   ]
  },
  {
   "cell_type": "code",
   "execution_count": 12,
   "metadata": {},
   "outputs": [],
   "source": [
    "rstate, settings = load_exog_data(rstate, settings, domain_specs)"
   ]
  },
  {
   "cell_type": "markdown",
   "metadata": {},
   "source": [
    "`settings.exog_vars` now has the defaults from domain_specs (if this was not set in `settings.json`)"
   ]
  },
  {
   "cell_type": "code",
   "execution_count": null,
   "metadata": {},
   "outputs": [],
   "source": [
    "settings.exog_vars"
   ]
  },
  {
   "cell_type": "markdown",
   "metadata": {},
   "source": [
    "the data has been read into `rstate` as a dict keyed by series name\n",
    "\n",
    "each series is a data frame with rows as timepoints and columns as variables"
   ]
  },
  {
   "cell_type": "code",
   "execution_count": null,
   "metadata": {},
   "outputs": [],
   "source": [
    "rstate.series_dfs[\"Maryland\"]"
   ]
  },
  {
   "cell_type": "markdown",
   "metadata": {},
   "source": [
    "the name of the target column was set automatically by `init_target_data()`"
   ]
  },
  {
   "cell_type": "code",
   "execution_count": null,
   "metadata": {},
   "outputs": [],
   "source": [
    "rstate.target_var"
   ]
  },
  {
   "cell_type": "markdown",
   "metadata": {},
   "source": [
    "`make_training_fn()` returns a function that trains a model  (it closes over training data and config settings)\n",
    "\n",
    "the resulting function takes `settings` and returns mean & variance forecasts\n",
    "\n",
    "the forecasts are matrices with rows = series and columns = timepoints\n",
    "\n",
    "the trained models are saved in `rstate.snapshot_dir`\n",
    "\n",
    "the training function can be used on its own or called in a loop with different settings to generate an ensemble\n"
   ]
  },
  {
   "cell_type": "code",
   "execution_count": 16,
   "metadata": {},
   "outputs": [],
   "source": [
    "training_fn = make_training_fn(rstate)"
   ]
  },
  {
   "cell_type": "markdown",
   "metadata": {},
   "source": [
    "to train an ensemble of models, we will generate a list of `settings`, one for each model\n",
    "\n",
    "`specify_ensemble` is a user-defined function that generates the list, based on info in `domain_specs`\n",
    "\n",
    "see `data_utils/covid_hub.py` for an example"
   ]
  },
  {
   "cell_type": "code",
   "execution_count": 17,
   "metadata": {},
   "outputs": [],
   "source": [
    "## maybe we don't really need 5 random reps\n",
    "domain_specs.random_reps = 3\n",
    "\n",
    "## generate a list of settings structs having the desired variation for ensemble\n",
    "## save the list to rstate for posterity\n",
    "rstate.settings_list = specify_ensemble(settings, domain_specs)\n"
   ]
  },
  {
   "cell_type": "markdown",
   "metadata": {},
   "source": [
    "can also define some other ensemble:"
   ]
  },
  {
   "cell_type": "code",
   "execution_count": 3,
   "metadata": {},
   "outputs": [],
   "source": [
    "## setting size of hidden layer based on size of lookback window:\n",
    "def custom_ensemble(template, specs):\n",
    "    settings_list = []\n",
    "    for j in range(specs.random_reps):\n",
    "        for opt in specs.lookback_opts:\n",
    "            x = deepcopy(template)\n",
    "            x.lookback = opt\n",
    "            x.nbeats_hidden_dim = opt * 2 * 6 * 8\n",
    "            settings_list.append(x)\n",
    "    return settings_list\n"
   ]
  },
  {
   "cell_type": "markdown",
   "metadata": {},
   "source": [
    "to use snapshot/pretrained model with no additional training, set iterations to 0"
   ]
  },
  {
   "cell_type": "code",
   "execution_count": 19,
   "metadata": {},
   "outputs": [],
   "source": [
    "## use snapshot/pretrained model, no additional training\n",
    "settings.iterations = 0"
   ]
  },
  {
   "cell_type": "code",
   "execution_count": null,
   "metadata": {},
   "outputs": [],
   "source": [
    "rstate.settings_list = custom_ensemble(settings, domain_specs)\n",
    "rstate.settings_list[3]"
   ]
  },
  {
   "cell_type": "markdown",
   "metadata": {},
   "source": [
    "(optional) a pretrained model file for each model in the ensemble\n",
    "\n",
    "each must have the same structure (lookback window, hidden dims, etc.) as the corresponding ensemble entry"
   ]
  },
  {
   "cell_type": "code",
   "execution_count": 4,
   "metadata": {},
   "outputs": [],
   "source": [
    "\n",
    "def pretrained_list(pretrain_dir, specs):\n",
    "    file_list = []\n",
    "    for j in range(specs.random_reps):\n",
    "        for opt in specs.lookback_opts:\n",
    "            filename = \"flu24_\" + str(opt) + \"H_\" + str(j+1) + \".pt\"\n",
    "            file_list.append(os.path.join(pretrain_dir,filename))\n",
    "    return file_list\n"
   ]
  },
  {
   "cell_type": "code",
   "execution_count": null,
   "metadata": {},
   "outputs": [],
   "source": [
    "rstate.pretrained_models = [None for x in rstate.settings_list]\n",
    "\n",
    "pretrain_dir = \"flu_pretrained_2024\" # None # \n",
    "\n",
    "if pretrain_dir is not None:\n",
    "    rstate.pretrained_models = pretrained_list(os.path.join(rstate.data_dir,pretrain_dir), domain_specs)\n",
    "\n",
    "rstate.pretrained_models"
   ]
  },
  {
   "cell_type": "markdown",
   "metadata": {},
   "source": [
    "empty dicts for storing the forecasts from each model:"
   ]
  },
  {
   "cell_type": "code",
   "execution_count": 23,
   "metadata": {},
   "outputs": [],
   "source": [
    "mu_fc={}\n",
    "var_fc={}"
   ]
  },
  {
   "cell_type": "code",
   "execution_count": 24,
   "metadata": {},
   "outputs": [],
   "source": [
    "empty_gpu_cache() ## just in case?"
   ]
  },
  {
   "cell_type": "markdown",
   "metadata": {},
   "source": [
    "train each model in the ensemble and write its forecast to `mu_fc` and `var_fc` (keyed w/ a semi-descriptive name):"
   ]
  },
  {
   "cell_type": "code",
   "execution_count": null,
   "metadata": {},
   "outputs": [],
   "source": [
    "\n",
    "## ensemble loop\n",
    "for i, set_i in enumerate(rstate.settings_list):\n",
    "    model_name = rstate.output_prefix+\"_\"+str(i)\n",
    "    model_suffix = str(rstate.cut) if rstate.cut is not None else str(rstate.data_index[-1])\n",
    "    model_name = model_name+\"_\"+model_suffix\n",
    "    print(\"training \",model_name)\n",
    "    mu_fc[model_name], var_fc[model_name] = training_fn(model_name, set_i, rstate.pretrained_models[i]) \n"
   ]
  },
  {
   "cell_type": "markdown",
   "metadata": {},
   "source": [
    "forecast shape for each model is [series, time]\n",
    "\n",
    "ensemble the dict values using median across models\n",
    "\n",
    "write results to `rstate`"
   ]
  },
  {
   "cell_type": "code",
   "execution_count": 26,
   "metadata": {},
   "outputs": [],
   "source": [
    "\n",
    "mu_fc[\"ensemble\"] = np.median(np.stack([mu_fc[k] for k in mu_fc]),axis=0)\n",
    "var_fc[\"ensemble\"] = np.median(np.stack([var_fc[k] for k in var_fc]),axis=0)\n",
    "\n",
    "rstate.mu_fc = mu_fc\n",
    "rstate.var_fc = var_fc\n"
   ]
  },
  {
   "cell_type": "markdown",
   "metadata": {},
   "source": [
    "if forecast targets are per-capita, need series weights for summing to national (per capita) forecast"
   ]
  },
  {
   "cell_type": "code",
   "execution_count": null,
   "metadata": {},
   "outputs": [],
   "source": [
    "if rstate.series_weights is not None:\n",
    "    print(pd.DataFrame({\"state\":rstate.series_names,\"weight\":rstate.series_weights.squeeze()}))"
   ]
  },
  {
   "cell_type": "markdown",
   "metadata": {},
   "source": [
    "`generate_quantiles()` goes through each entry in `rstate.mu_fc` and `rstate.var_fc`\n",
    "\n",
    "and generates dicts containing forecast quantiles for each model (and \"ensemble\")\n",
    "\n",
    "see comments in `data_utils/forecast.py` for details"
   ]
  },
  {
   "cell_type": "code",
   "execution_count": 28,
   "metadata": {},
   "outputs": [],
   "source": [
    "rstate = generate_quantiles(rstate)"
   ]
  },
  {
   "cell_type": "markdown",
   "metadata": {},
   "source": [
    "optional: save rstate, which contains all training data, forecasts, and ensemble settings\n",
    "\n",
    "`pickle_results()` writes it to output dir"
   ]
  },
  {
   "cell_type": "code",
   "execution_count": 29,
   "metadata": {},
   "outputs": [],
   "source": [
    "pickle_results(rstate)"
   ]
  },
  {
   "cell_type": "markdown",
   "metadata": {},
   "source": [
    "plot some forecasts"
   ]
  },
  {
   "cell_type": "code",
   "execution_count": null,
   "metadata": {},
   "outputs": [],
   "source": [
    "output_figs(rstate, rstate.settings_list[0].horizon, \n",
    "#[0,1,2,4], \n",
    "#[8,9,10,11], \n",
    "range(11),\n",
    " 70,\n",
    " colors=[\"white\",\"yellow\"],figsize=(5,3),plot_mean=True)"
   ]
  },
  {
   "cell_type": "markdown",
   "metadata": {},
   "source": [
    "save forecasts as csv"
   ]
  },
  {
   "cell_type": "code",
   "execution_count": null,
   "metadata": {},
   "outputs": [],
   "source": [
    "df,_ = output_df(rstate,0)\n",
    "df.query(\"location == 'US' and quantile=='mean'\")\n"
   ]
  },
  {
   "cell_type": "code",
   "execution_count": 40,
   "metadata": {},
   "outputs": [],
   "source": [
    "append_forecasts(df, os.path.join(rstate.data_dir,\"forecast_plots.csv\"))\n"
   ]
  },
  {
   "cell_type": "markdown",
   "metadata": {},
   "source": [
    "delete the trained models if we no longer need them:"
   ]
  },
  {
   "cell_type": "code",
   "execution_count": 28,
   "metadata": {},
   "outputs": [],
   "source": [
    "if rstate.delete_models:\n",
    "    try:\n",
    "        shutil.rmtree(rstate.snapshot_dir)\n",
    "    except:\n",
    "        pass\n"
   ]
  },
  {
   "cell_type": "code",
   "execution_count": null,
   "metadata": {},
   "outputs": [],
   "source": []
  },
  {
   "cell_type": "markdown",
   "metadata": {},
   "source": [
    "automate the above"
   ]
  },
  {
   "cell_type": "code",
   "execution_count": 5,
   "metadata": {},
   "outputs": [],
   "source": [
    "def init_rstate(cut, settings, domain_specs, ensemble_fn=specify_ensemble):\n",
    "    rstate = read_config(\"config_flu.json\")\n",
    "    rstate.cut = cut\n",
    "    \n",
    "    rstate, settings = init_target_data(rstate, settings)\n",
    "    rstate, settings = load_exog_data(rstate, settings, domain_specs)\n",
    "    rstate.settings_list = ensemble_fn(settings, domain_specs)\n",
    "    rstate.pretrained_models = [None for x in rstate.settings_list]\n",
    "    \n",
    "    return rstate, settings\n",
    "\n",
    "\n",
    "def generate_ensemble(rstate):\n",
    "    mu_fc={}\n",
    "    var_fc={}\n",
    "    empty_gpu_cache()\n",
    "    training_fn = make_training_fn(rstate)\n",
    "\n",
    "    ## ensemble loop\n",
    "    for i, set_i in enumerate(rstate.settings_list):\n",
    "        model_name = rstate.output_prefix+\"_\"+str(i)\n",
    "        model_suffix = str(rstate.cut) if rstate.cut is not None else str(rstate.data_index[-1])\n",
    "        model_name = model_name+\"_\"+model_suffix\n",
    "        print(\"training \",model_name)\n",
    "        mu_fc[model_name], var_fc[model_name] = training_fn(model_name, set_i, rstate.pretrained_models[i]) \n",
    "\n",
    "    mu_fc[\"ensemble\"] = np.median(np.stack([mu_fc[k] for k in mu_fc]),axis=0)\n",
    "    var_fc[\"ensemble\"] = np.median(np.stack([var_fc[k] for k in var_fc]),axis=0)\n",
    "    rstate.mu_fc = mu_fc\n",
    "    rstate.var_fc = var_fc\n",
    "\n",
    "    rstate = generate_quantiles(rstate)\n",
    "\n",
    "    return rstate\n",
    "\n",
    "\n",
    "def delete_model_dir(rstate):\n",
    "    if rstate.delete_models:\n",
    "        try:\n",
    "            shutil.rmtree(rstate.snapshot_dir)\n",
    "        except:\n",
    "            pass\n"
   ]
  },
  {
   "cell_type": "code",
   "execution_count": 6,
   "metadata": {},
   "outputs": [],
   "source": [
    "\n",
    "## try adjusting the amount of training based on the amount of training data history\n",
    "## (lowering learning rate seems to work better than decreasing # of iterations)\n",
    "def adapt_iter(x):\n",
    "    return None#int(np.round(200 + (x - 901) * 2.0 / 3.0))\n",
    "\n",
    "def adapt_lr(x):\n",
    "    return None#np.round(0.0001 + (x - 901) * 4e-7, 7) \n",
    "\n",
    "def run_test(cut, random_reps=None, ensemble_fn=specify_ensemble, series_figs=[], n_iter=None, pretrain_dir=None, adj_iter=False, adj_LR=False):\n",
    "    ## if adj_*, train more when there is more data; otherwise use values from settings.json\n",
    "    settings = default_settings(\"settings_flu.json\")\n",
    "    #if adj_iter: settings.iterations = adapt_iter(cut)\n",
    "    #if adj_LR: settings.init_LR = adapt_lr(cut)\n",
    "    if n_iter is not None: settings.iterations = n_iter\n",
    "\n",
    "    domain_specs = domain_defaults()\n",
    "    if random_reps is not None: domain_specs.random_reps = random_reps\n",
    "    \n",
    "    rstate, settings = init_rstate(cut, settings, domain_specs, ensemble_fn)\n",
    "\n",
    "    if pretrain_dir is not None:\n",
    "        rstate.pretrained_models = pretrained_list(os.path.join(rstate.data_dir,pretrain_dir), domain_specs)\n",
    "\n",
    "    rstate = generate_ensemble(rstate)\n",
    "\n",
    "    pickle_results(rstate)\n",
    "    output_figs(rstate, rstate.settings_list[0].horizon, \n",
    "                series_figs, \n",
    "                70,\n",
    "                colors=[\"white\",\"yellow\"],figsize=(5,3),plot_mean=True)\n",
    "\n",
    "    df,_ = output_df(rstate,0)\n",
    "    append_forecasts(df, os.path.join(rstate.data_dir,\"forecast_plots.csv\"))\n",
    "\n",
    "    delete_model_dir(rstate)\n"
   ]
  },
  {
   "cell_type": "markdown",
   "metadata": {},
   "source": [
    "graph training losses\n",
    "\n",
    "note, ensembling not-quite-converged models seems to work better than running more iterations\n"
   ]
  },
  {
   "cell_type": "code",
   "execution_count": 36,
   "metadata": {},
   "outputs": [],
   "source": [
    "\n",
    "def plot_losses(pickle_file,ylim=None):\n",
    "    rstate = read_pickle(pickle_file)\n",
    "    model_prefix = rstate.output_prefix\n",
    "    model_suffix = str(rstate.cut) if rstate.cut is not None else str(rstate.data_index[-1])\n",
    "    _, ax = plt.subplots(nrows=len(rstate.settings_list),ncols=2,figsize=[8,2*len(rstate.settings_list)])\n",
    "    for i, set_i in enumerate(rstate.settings_list):\n",
    "        model_name =  model_prefix+\"_\"+str(i)+\"_\"+model_suffix\n",
    "        total_iter = set_i.iterations\n",
    "        snapshot_manager = SnapshotManager(snapshot_dir=os.path.join(rstate.snapshot_dir, model_name), total_iterations=total_iter)\n",
    "        ldf = snapshot_manager.load_training_losses()\n",
    "        vdf = snapshot_manager.load_validation_losses()\n",
    "        ax[i,0].plot(ldf)\n",
    "        ax[i,1].plot(vdf)\n",
    "        ax[i,1].set_ylim(ylim)\n",
    "    #plt.show()\n",
    "    plt.savefig(os.path.join(rstate.output_dir , \"losses_\"+model_prefix+\"_\"+model_suffix+\".png\"))\n"
   ]
  },
  {
   "cell_type": "code",
   "execution_count": null,
   "metadata": {},
   "outputs": [],
   "source": [
    "plot_losses(os.path.join(rstate.output_dir, \"flu_420.pickle\"))"
   ]
  },
  {
   "cell_type": "code",
   "execution_count": null,
   "metadata": {},
   "outputs": [],
   "source": []
  },
  {
   "cell_type": "code",
   "execution_count": null,
   "metadata": {},
   "outputs": [],
   "source": [
    "run_test(420, 3, custom_ensemble, series_figs=range(12), n_iter=0, pretrain_dir=\"flu_pretrained_2023\")"
   ]
  },
  {
   "cell_type": "code",
   "execution_count": null,
   "metadata": {},
   "outputs": [],
   "source": [
    "for cut in [467, 468, 469, 470, None]:\n",
    "    run_test(cut, 3, custom_ensemble, series_figs=[], n_iter=0, pretrain_dir=\"flu_pretrained_2024\")"
   ]
  },
  {
   "cell_type": "code",
   "execution_count": null,
   "metadata": {},
   "outputs": [],
   "source": []
  },
  {
   "cell_type": "code",
   "execution_count": null,
   "metadata": {},
   "outputs": [],
   "source": [
    "#rstate.delete_models = True\n",
    "#delete_model_dir(rstate)"
   ]
  },
  {
   "cell_type": "code",
   "execution_count": null,
   "metadata": {},
   "outputs": [],
   "source": []
  }
 ],
 "metadata": {
  "kernelspec": {
   "display_name": "torch",
   "language": "python",
   "name": "python3"
  },
  "language_info": {
   "codemirror_mode": {
    "name": "ipython",
    "version": 3
   },
   "file_extension": ".py",
   "mimetype": "text/x-python",
   "name": "python",
   "nbconvert_exporter": "python",
   "pygments_lexer": "ipython3",
   "version": "3.11.5"
  }
 },
 "nbformat": 4,
 "nbformat_minor": 2
}
