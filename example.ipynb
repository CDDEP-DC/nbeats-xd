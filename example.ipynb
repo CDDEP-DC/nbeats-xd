{
 "cells": [
  {
   "cell_type": "code",
   "execution_count": 1,
   "metadata": {},
   "outputs": [],
   "source": [
    "\n",
    "## versions:\n",
    "## Python    : 3.11.5\n",
    "## numpy     : 1.26.0\n",
    "## torch     : 2.1.0\n",
    "## pandas    : 2.1.1\n",
    "\n",
    "# licensed under the Creative Commons - Attribution-NonCommercial 4.0\n",
    "# International license (CC BY-NC 4.0):\n",
    "# https://creativecommons.org/licenses/by-nc/4.0/. \n",
    "\n",
    "import os\n",
    "import io\n",
    "import sys\n",
    "import shutil\n",
    "import datetime\n",
    "from typing import Dict, List, Optional\n",
    "from copy import deepcopy\n",
    "\n",
    "import numpy as np\n",
    "import pandas as pd\n",
    "import torch as t\n",
    "from torch.utils.data import DataLoader\n",
    "from scipy import stats\n",
    "import matplotlib.pyplot as plt\n",
    "\n",
    "from common.torch.ops import empty_gpu_cache\n",
    "from common.sampler import ts_dataset\n",
    "from common.torch.snapshots import SnapshotManager\n",
    "from experiments.trainer import trainer_var\n",
    "from experiments.model import generic_dec_var\n",
    "from models.exog import TCN_encoder\n",
    "\n",
    "from data_utils.forecast import tryJSON, Struct, read_config, default_settings, str_indexed_csv\n",
    "from data_utils.forecast import init_target_data, load_exog_data, make_training_fn, generate_quantiles\n",
    "from data_utils.forecast import pickle_results, read_pickle, output_figs\n",
    "from data_utils.covid_hub import domain_defaults, domain_defaults_pretrain, specify_ensemble, output_df\n",
    "from data_utils.covid_hub import read_covid_weekly, read_weather_data, download_forecast_hub, download_covid_surveil, download_weather\n",
    "\n"
   ]
  },
  {
   "cell_type": "code",
   "execution_count": 2,
   "metadata": {},
   "outputs": [],
   "source": [
    "import warnings\n",
    "%config InlineBackend.figure_formats = [\"svg\"]\n",
    "plt.style.use(\"dark_background\")\n",
    "warnings.formatwarning = lambda message, category, *args, **kwargs: \"{}: {}\\n\".format(category.__name__, message)\n",
    "warnings.filterwarnings(\"ignore\",category=FutureWarning)\n",
    "#%load_ext watermark\n",
    "#%watermark -n -u -v -iv -w"
   ]
  },
  {
   "cell_type": "code",
   "execution_count": null,
   "metadata": {},
   "outputs": [],
   "source": []
  },
  {
   "cell_type": "markdown",
   "metadata": {},
   "source": [
    "(if needed) read latest data"
   ]
  },
  {
   "cell_type": "code",
   "execution_count": 4,
   "metadata": {},
   "outputs": [],
   "source": [
    "dest = os.path.join(\"storage\",\"download\")\n",
    "#download_forecast_hub(dest)\n",
    "#download_covid_surveil(dest)\n",
    "#download_weather(2024, dest)\n",
    "\n",
    "idx, _ = read_covid_weekly()\n",
    "read_weather_data(idx)"
   ]
  },
  {
   "cell_type": "code",
   "execution_count": null,
   "metadata": {},
   "outputs": [],
   "source": []
  },
  {
   "cell_type": "markdown",
   "metadata": {},
   "source": [
    "`read_config()` returns configuration settings that don't change between models within an ensemble\n",
    "\n",
    "gets values from `config.json` if available\n",
    "\n",
    "see comments in `data_utils/forecast.py` for an explanation of entries"
   ]
  },
  {
   "cell_type": "code",
   "execution_count": null,
   "metadata": {},
   "outputs": [],
   "source": [
    "#rstate = read_config(\"config_covid.json\")\n",
    "rstate = read_config(\"config_covid_pretrain.json\") ## pretraining dataset (aggregated by hhs region)"
   ]
  },
  {
   "cell_type": "code",
   "execution_count": null,
   "metadata": {},
   "outputs": [],
   "source": [
    "rstate"
   ]
  },
  {
   "cell_type": "markdown",
   "metadata": {},
   "source": [
    "you can change the settings here or in `config.json`\n",
    "\n",
    "e.g., `rstate.cut` sets the train/test split index (None = train on all data)"
   ]
  },
  {
   "cell_type": "code",
   "execution_count": null,
   "metadata": {},
   "outputs": [],
   "source": [
    "rstate.cut = None  # 166 # 170 # 176 #   (126 = end of 2022, 178 = end of 2023)"
   ]
  },
  {
   "cell_type": "markdown",
   "metadata": {},
   "source": [
    "`default_settings()` returns settings that can be changed between models within an ensemble\n",
    "\n",
    "gets defaults from `settings.json` if available\n",
    "\n",
    "see comments in `data_utils/forecast.py` for an explanation of entries"
   ]
  },
  {
   "cell_type": "code",
   "execution_count": null,
   "metadata": {},
   "outputs": [],
   "source": [
    "settings = default_settings(\"settings_covid.json\")"
   ]
  },
  {
   "cell_type": "markdown",
   "metadata": {},
   "source": [
    "can change settings in json file or here"
   ]
  },
  {
   "cell_type": "code",
   "execution_count": 3,
   "metadata": {},
   "outputs": [],
   "source": [
    "## try adjusting the amount of training based on the amount of training data history\n",
    "## (lowering learning rate seems to work better than decreasing # of iterations)\n",
    "def adapt_iter(x):\n",
    "    return int(np.round(200 + (x - 126) * 14.0 / 3.0))\n",
    "\n",
    "def adapt_lr(x):\n",
    "    return np.round(0.00005 + (x - 126) * 1.5e-6, 7)  #np.round(0.0001 + (x - 126) * 2.8e-6, 7) "
   ]
  },
  {
   "cell_type": "code",
   "execution_count": null,
   "metadata": {},
   "outputs": [],
   "source": [
    "#try increasing the learning rate when there's more training data\n",
    "if rstate.cut is not None:\n",
    "    settings.init_LR = adapt_lr(rstate.cut)"
   ]
  },
  {
   "cell_type": "markdown",
   "metadata": {},
   "source": [
    "we will change `settings.exog_vars` below, to specify which exogenous predictors to use"
   ]
  },
  {
   "cell_type": "code",
   "execution_count": null,
   "metadata": {},
   "outputs": [],
   "source": [
    "settings"
   ]
  },
  {
   "cell_type": "markdown",
   "metadata": {},
   "source": [
    "`domain_defaults()` is meant to be a user-defined function\n",
    "\n",
    "returns a struct with instructions for reading or generating exogenous variables\n",
    "\n",
    "see `data_utils/covid_hub.py` for an example/explanation"
   ]
  },
  {
   "cell_type": "code",
   "execution_count": null,
   "metadata": {},
   "outputs": [],
   "source": [
    "#domain_specs = domain_defaults()\n",
    "domain_specs = domain_defaults_pretrain() ## pretraining dataset (aggregated by hhs region)"
   ]
  },
  {
   "cell_type": "markdown",
   "metadata": {},
   "source": [
    "`exog_vars` specifies which exogenous predictors to use by default\n",
    "\n",
    "the predictors in `var_names` are loaded/generated and available to use"
   ]
  },
  {
   "cell_type": "code",
   "execution_count": null,
   "metadata": {},
   "outputs": [],
   "source": [
    "domain_specs"
   ]
  },
  {
   "cell_type": "markdown",
   "metadata": {},
   "source": [
    "`init_target_data()` reads in and optionally transforms target data\n",
    "\n",
    "sets timepoint indices and series identifiers; writes data to `rstate`\n"
   ]
  },
  {
   "cell_type": "code",
   "execution_count": null,
   "metadata": {},
   "outputs": [],
   "source": [
    "rstate, settings = init_target_data(rstate, settings)"
   ]
  },
  {
   "cell_type": "markdown",
   "metadata": {},
   "source": [
    "`rstate.data_index` was set based on the index of `rstate.target_file`\n",
    "\n",
    "for exogenous data, the files and functions specified in `domain_defaults()` must generate data frames with the same index"
   ]
  },
  {
   "cell_type": "code",
   "execution_count": null,
   "metadata": {},
   "outputs": [],
   "source": [
    "rstate.data_dir+\"/\"+rstate.target_file, rstate.data_index"
   ]
  },
  {
   "cell_type": "markdown",
   "metadata": {},
   "source": [
    "`load_exog_data()` appends exogenous predictors to rstate, using the data index generated above"
   ]
  },
  {
   "cell_type": "code",
   "execution_count": null,
   "metadata": {},
   "outputs": [],
   "source": [
    "rstate, settings = load_exog_data(rstate, settings, domain_specs)"
   ]
  },
  {
   "cell_type": "markdown",
   "metadata": {},
   "source": [
    "`settings.exog_vars` now has the defaults from domain_specs (if this was not set in `settings.json`)"
   ]
  },
  {
   "cell_type": "code",
   "execution_count": null,
   "metadata": {},
   "outputs": [],
   "source": [
    "settings.exog_vars"
   ]
  },
  {
   "cell_type": "markdown",
   "metadata": {},
   "source": [
    "the data has been read into `rstate` as a dict keyed by series name\n",
    "\n",
    "each series is a data frame with rows as timepoints and columns as variables"
   ]
  },
  {
   "cell_type": "code",
   "execution_count": null,
   "metadata": {},
   "outputs": [],
   "source": [
    "#rstate.series_dfs[\"24\"]\n",
    "rstate.series_dfs[\"Region 3\"]"
   ]
  },
  {
   "cell_type": "markdown",
   "metadata": {},
   "source": [
    "if forecast targets are per-capita, need series weights for summing to national (per capita) forecast"
   ]
  },
  {
   "cell_type": "code",
   "execution_count": null,
   "metadata": {},
   "outputs": [],
   "source": [
    "if rstate.series_weights is not None:\n",
    "    print(pd.DataFrame({\"weight\":rstate.series_weights.squeeze()},index=rstate.series_names)[:10])"
   ]
  },
  {
   "cell_type": "markdown",
   "metadata": {},
   "source": [
    "the name of the target column was set automatically by `init_target_data()`"
   ]
  },
  {
   "cell_type": "code",
   "execution_count": null,
   "metadata": {},
   "outputs": [],
   "source": [
    "rstate.target_var"
   ]
  },
  {
   "cell_type": "markdown",
   "metadata": {},
   "source": [
    "`make_training_fn()` returns a function that trains a model  (it closes over training data and config settings)\n",
    "\n",
    "the resulting function takes `settings` and returns mean & variance forecasts\n",
    "\n",
    "the forecasts are matrices with rows = series and columns = timepoints\n",
    "\n",
    "the trained models are saved in `rstate.snapshot_dir`\n",
    "\n",
    "the training function can be used on its own or called in a loop with different settings to generate an ensemble\n"
   ]
  },
  {
   "cell_type": "code",
   "execution_count": null,
   "metadata": {},
   "outputs": [],
   "source": [
    "training_fn = make_training_fn(rstate)"
   ]
  },
  {
   "cell_type": "markdown",
   "metadata": {},
   "source": [
    "to use snapshot/pretrained model with no additional training, set iterations to 0"
   ]
  },
  {
   "cell_type": "code",
   "execution_count": null,
   "metadata": {},
   "outputs": [],
   "source": [
    "\n",
    "#settings.iterations = 0\n",
    "#settings.iterations = 200\n"
   ]
  },
  {
   "cell_type": "markdown",
   "metadata": {},
   "source": [
    "to train an ensemble of models, we will generate a list of `settings`, one for each model\n",
    "\n",
    "`specify_ensemble` is a user-defined function that generates the list, based on info in `domain_specs`\n",
    "\n",
    "see `data_utils/covid_hub.py` for an example"
   ]
  },
  {
   "cell_type": "code",
   "execution_count": null,
   "metadata": {},
   "outputs": [],
   "source": [
    "## maybe we don't really need 5 random reps\n",
    "domain_specs.random_reps = 5\n",
    "\n",
    "## generate a list of settings structs having the desired variation for ensemble\n",
    "## save the list to rstate for posterity\n",
    "rstate.settings_list = specify_ensemble(settings, domain_specs)\n"
   ]
  },
  {
   "cell_type": "markdown",
   "metadata": {},
   "source": [
    "can also define some other ensemble:"
   ]
  },
  {
   "cell_type": "code",
   "execution_count": 4,
   "metadata": {},
   "outputs": [],
   "source": [
    "## setting size of hidden layer based on size of lookback window:\n",
    "def custom_ensemble(template, specs):\n",
    "    settings_list = []\n",
    "    for j in range(specs.random_reps):\n",
    "        for opt in specs.lookback_opts:\n",
    "            x = deepcopy(template)\n",
    "            x.lookback = opt\n",
    "            x.nbeats_hidden_dim = opt * 2 * 6 * 5\n",
    "            settings_list.append(x)\n",
    "    return settings_list\n"
   ]
  },
  {
   "cell_type": "code",
   "execution_count": null,
   "metadata": {},
   "outputs": [],
   "source": [
    "rstate.settings_list = custom_ensemble(settings, domain_specs)\n",
    "rstate.settings_list[3]"
   ]
  },
  {
   "cell_type": "markdown",
   "metadata": {},
   "source": [
    "(optional) a pretrained model file for each model in the ensemble\n",
    "\n",
    "each must have the same structure (lookback window, hidden dims, etc.) as the corresponding ensemble entry"
   ]
  },
  {
   "cell_type": "code",
   "execution_count": null,
   "metadata": {},
   "outputs": [],
   "source": [
    "\n",
    "def pretrained_list(pretrain_dir, specs):\n",
    "    file_list = []\n",
    "    i = 0\n",
    "    for j in range(specs.random_reps):\n",
    "        for opt in specs.lookback_opts:\n",
    "            filename = os.path.join(\"nbxd_\" + str(i) + \"_1266\", \"model\")\n",
    "            file_list.append(os.path.join(pretrain_dir,filename))\n",
    "            i = i + 1\n",
    "    return file_list\n"
   ]
  },
  {
   "cell_type": "code",
   "execution_count": null,
   "metadata": {},
   "outputs": [],
   "source": [
    "rstate.pretrained_models = [None for x in rstate.settings_list]\n",
    "\n",
    "pretrain_dir = None # os.path.join(\"storage\",\"pretrained_hhs_surveil_weekly\") # \n",
    "\n",
    "if pretrain_dir is not None:\n",
    "    rstate.pretrained_models = pretrained_list(pretrain_dir, domain_specs)\n",
    "\n",
    "rstate.pretrained_models"
   ]
  },
  {
   "cell_type": "markdown",
   "metadata": {},
   "source": [
    "empty dicts for storing the forecasts from each model:"
   ]
  },
  {
   "cell_type": "code",
   "execution_count": null,
   "metadata": {},
   "outputs": [],
   "source": [
    "mu_fc={}\n",
    "var_fc={}"
   ]
  },
  {
   "cell_type": "code",
   "execution_count": null,
   "metadata": {},
   "outputs": [],
   "source": [
    "empty_gpu_cache() ## just in case?"
   ]
  },
  {
   "cell_type": "markdown",
   "metadata": {},
   "source": [
    "train each model in the ensemble and write its forecast to `mu_fc` and `var_fc` (keyed w/ a semi-descriptive name):"
   ]
  },
  {
   "cell_type": "code",
   "execution_count": null,
   "metadata": {},
   "outputs": [],
   "source": [
    "\n",
    "## ensemble loop\n",
    "for i, set_i in enumerate(rstate.settings_list):\n",
    "    model_name = rstate.output_prefix+\"_\"+str(i)\n",
    "    model_suffix = str(rstate.cut) if rstate.cut is not None else str(rstate.data_index[-1])\n",
    "    model_name = model_name+\"_\"+model_suffix\n",
    "    print(\"training \",model_name)\n",
    "    mu_fc[model_name], var_fc[model_name] = training_fn(model_name, set_i, rstate.pretrained_models[i]) \n"
   ]
  },
  {
   "cell_type": "markdown",
   "metadata": {},
   "source": [
    "forecast shape for each model is [series, time]\n",
    "\n",
    "ensemble the dict values using median across models\n",
    "\n",
    "write results to `rstate`"
   ]
  },
  {
   "cell_type": "code",
   "execution_count": null,
   "metadata": {},
   "outputs": [],
   "source": [
    "\n",
    "mu_fc[\"ensemble\"] = np.median(np.stack([mu_fc[k] for k in mu_fc]),axis=0)\n",
    "var_fc[\"ensemble\"] = np.median(np.stack([var_fc[k] for k in var_fc]),axis=0)\n",
    "\n",
    "rstate.mu_fc = mu_fc\n",
    "rstate.var_fc = var_fc\n"
   ]
  },
  {
   "cell_type": "markdown",
   "metadata": {},
   "source": [
    "`generate_quantiles()` goes through each entry in `rstate.mu_fc` and `rstate.var_fc`\n",
    "\n",
    "and generates dicts containing forecast quantiles for each model (and \"ensemble\")\n",
    "\n",
    "see comments in `data_utils/forecast.py` for details"
   ]
  },
  {
   "cell_type": "code",
   "execution_count": null,
   "metadata": {},
   "outputs": [],
   "source": [
    "rstate = generate_quantiles(rstate)"
   ]
  },
  {
   "cell_type": "markdown",
   "metadata": {},
   "source": [
    "optional: save rstate, which contains all training data, forecasts, and ensemble settings\n",
    "\n",
    "`pickle_results()` writes it to output dir"
   ]
  },
  {
   "cell_type": "code",
   "execution_count": null,
   "metadata": {},
   "outputs": [],
   "source": [
    "pickle_results(rstate)"
   ]
  },
  {
   "cell_type": "markdown",
   "metadata": {},
   "source": [
    "plot some forecasts"
   ]
  },
  {
   "cell_type": "code",
   "execution_count": null,
   "metadata": {},
   "outputs": [],
   "source": [
    "#output_figs(rstate, settings.horizon, [20, 4], 60)\n",
    "output_figs(rstate, settings.horizon, [2, 8], 60)"
   ]
  },
  {
   "cell_type": "markdown",
   "metadata": {},
   "source": [
    "delete the trained models if we no longer need them:"
   ]
  },
  {
   "cell_type": "code",
   "execution_count": null,
   "metadata": {},
   "outputs": [],
   "source": [
    "if rstate.delete_models:\n",
    "    try:\n",
    "        shutil.rmtree(rstate.snapshot_dir)\n",
    "    except:\n",
    "        pass\n"
   ]
  },
  {
   "cell_type": "code",
   "execution_count": null,
   "metadata": {},
   "outputs": [],
   "source": []
  },
  {
   "cell_type": "markdown",
   "metadata": {},
   "source": [
    "automate the above"
   ]
  },
  {
   "cell_type": "code",
   "execution_count": 5,
   "metadata": {},
   "outputs": [],
   "source": [
    "def init_rstate(configfile, cut, settings, domain_specs, ensemble_fn=specify_ensemble, cut_weight_fn=None):\n",
    "    rstate = read_config(configfile)\n",
    "    rstate.cut = cut\n",
    "    \n",
    "    rstate, settings = init_target_data(rstate, settings)\n",
    "    rstate, settings = load_exog_data(rstate, settings, domain_specs)\n",
    "\n",
    "    if cut_weight_fn is not None: settings.cut_weights = cut_weight_fn(rstate, settings)\n",
    "\n",
    "    rstate.settings_list = ensemble_fn(settings, domain_specs)\n",
    "    rstate.pretrained_models = [None for x in rstate.settings_list]\n",
    "    \n",
    "    return rstate, settings\n",
    "\n",
    "\n",
    "def generate_ensemble(rstate, ens_fn=np.median):\n",
    "    mu_fc={}\n",
    "    var_fc={}\n",
    "    empty_gpu_cache()\n",
    "    training_fn = make_training_fn(rstate)\n",
    "\n",
    "    ## ensemble loop\n",
    "    for i, set_i in enumerate(rstate.settings_list):\n",
    "        model_name = rstate.output_prefix+\"_\"+str(i)\n",
    "        model_suffix = str(rstate.cut) if rstate.cut is not None else str(rstate.data_index[-1])\n",
    "        model_name = model_name+\"_\"+model_suffix\n",
    "        print(\"training \",model_name)\n",
    "        mu_fc[model_name], var_fc[model_name] = training_fn(model_name, set_i, rstate.pretrained_models[i]) \n",
    "\n",
    "    mu_fc[\"ensemble\"] = ens_fn(np.stack([mu_fc[k] for k in mu_fc]),axis=0)\n",
    "    var_fc[\"ensemble\"] = ens_fn(np.stack([var_fc[k] for k in var_fc]),axis=0)\n",
    "    rstate.mu_fc = mu_fc\n",
    "    rstate.var_fc = var_fc\n",
    "    \n",
    "    rstate = generate_quantiles(rstate)\n",
    "\n",
    "    return rstate\n",
    "\n",
    "\n",
    "def delete_model_dir(rstate):\n",
    "    if rstate.delete_models:\n",
    "        try:\n",
    "            shutil.rmtree(rstate.snapshot_dir)\n",
    "        except:\n",
    "            pass\n"
   ]
  },
  {
   "cell_type": "code",
   "execution_count": 6,
   "metadata": {},
   "outputs": [],
   "source": [
    "\n",
    "\n",
    "def run_test(configfile, settingsfile, cut, random_reps=None, ensemble_fn=specify_ensemble, series_figs=[], n_iter=None, pretrain_list_fn=None, cut_weight_fn=None, ens_reduce=np.median, adj_iter=False, adj_LR=True, init_LR=None):\n",
    "    ## if adj_*, train more when there is more data; otherwise use values from settings.json\n",
    "    settings = default_settings(settingsfile)\n",
    "    if cut is not None:\n",
    "        if adj_iter: settings.iterations = adapt_iter(cut)\n",
    "        if adj_LR: settings.init_LR = adapt_lr(cut)\n",
    "    if n_iter is not None: settings.iterations = n_iter\n",
    "    if init_LR is not None: settings.init_LR = init_LR\n",
    "\n",
    "    domain_specs = domain_defaults()\n",
    "    #domain_specs = domain_defaults_pretrain()\n",
    "    if random_reps is not None: domain_specs.random_reps = random_reps\n",
    "    \n",
    "    rstate, settings = init_rstate(configfile, cut, settings, domain_specs, ensemble_fn, cut_weight_fn)\n",
    "\n",
    "    if pretrain_list_fn is not None:\n",
    "        rstate.pretrained_models = pretrain_list_fn(domain_specs)\n",
    "\n",
    "    rstate = generate_ensemble(rstate, ens_reduce)\n",
    "\n",
    "    pickle_results(rstate)\n",
    "    output_figs(rstate, rstate.settings_list[0].horizon, \n",
    "                series_figs, \n",
    "                60,\n",
    "                colors=[\"white\",\"yellow\"],figsize=(5,3),plot_mean=True)\n",
    "\n",
    "    df, date_stamp = output_df(rstate, 14)\n",
    "    \n",
    "    delete_model_dir(rstate)\n",
    "\n",
    "    return (df, date_stamp) \n"
   ]
  },
  {
   "cell_type": "code",
   "execution_count": null,
   "metadata": {},
   "outputs": [],
   "source": [
    "## pretrained model file for each model in the ensemble\n",
    "\n",
    "def pre2023(specs):\n",
    "    pretrain_dir = os.path.join(\"storage\",\"weekly_models\")\n",
    "    file_list = []\n",
    "    i = 0\n",
    "    for j in range(specs.random_reps):\n",
    "        for opt in specs.lookback_opts:\n",
    "            #filename = os.path.join(\"nbxd_\" + str(i) + \"_178\", \"model\")\n",
    "            filename = os.path.join(\"nbxd_\" + str(i) + \"_152\", \"model\")\n",
    "            file_list.append(os.path.join(pretrain_dir,filename))\n",
    "            i = i + 1\n",
    "    return file_list\n"
   ]
  },
  {
   "cell_type": "code",
   "execution_count": 7,
   "metadata": {},
   "outputs": [],
   "source": [
    "\n",
    "def pre2024(specs):\n",
    "    pretrain_dir = os.path.join(\"storage\",\"pretrained_hhs_surveil_weekly\")\n",
    "    file_list = []\n",
    "    for j in range(specs.random_reps):\n",
    "        for opt in specs.lookback_opts:\n",
    "            filename = \"covid2024_\"+str(opt)+\"H_\"+str(j+1)+\".pt\"\n",
    "            file_list.append(os.path.join(pretrain_dir,filename))\n",
    "    return file_list\n"
   ]
  },
  {
   "cell_type": "code",
   "execution_count": null,
   "metadata": {},
   "outputs": [],
   "source": [
    "df, date_stamp = run_test(\"config_covid.json\", \"settings_covid.json\", \n",
    "                          None, 5, custom_ensemble, series_figs=[], n_iter=100, \n",
    "                          pretrain_list_fn=pre2024, adj_LR=False)"
   ]
  },
  {
   "cell_type": "code",
   "execution_count": 9,
   "metadata": {},
   "outputs": [],
   "source": [
    "pops = str_indexed_csv(\"storage/training_data/fips_pops.csv\").iloc[:,0].rename(\"pop\")\n",
    "pops[\"US\"] = pops.sum()\n",
    "\n",
    "df_hub = pd.merge(df,pops,left_on=\"series_name\",right_index=True)\n",
    "df_hub[\"per100k\"] = df_hub[\"value\"]\n",
    "df_hub[\"value\"] = (df_hub[\"per100k\"] * (df_hub[\"pop\"] / 100000.0)).round(2)\n",
    "df_hub[\"output_type_id\"] = pd.to_numeric(df_hub[\"output_type_id\"], errors=\"coerce\")\n",
    "\n",
    "keep_cols = [\"reference_date\",\n",
    "    \"target\",\n",
    "    \"horizon\",\n",
    "    \"target_end_date\",\n",
    "    \"location\",\n",
    "    \"output_type\",\n",
    "    \"output_type_id\",\n",
    "    \"value\"]\n",
    "\n",
    "filename = date_stamp.strftime(\"%Y-%m-%d\") + \"-OHT_JHU-nbxd.csv\"\n",
    "\n",
    "df_hub.loc[(df_hub[\"output_type\"]==\"quantile\") & (df_hub[\"horizon\"]<4) , \n",
    "           keep_cols].to_csv(os.path.join(\"storage\",\"output\",filename),index=False)"
   ]
  },
  {
   "cell_type": "code",
   "execution_count": null,
   "metadata": {},
   "outputs": [],
   "source": []
  },
  {
   "cell_type": "markdown",
   "metadata": {},
   "source": [
    "graph training losses\n",
    "\n",
    "note, ensembling not-quite-converged models seems to work better than running more iterations\n"
   ]
  },
  {
   "cell_type": "code",
   "execution_count": null,
   "metadata": {},
   "outputs": [],
   "source": [
    "\n",
    "def plot_losses(pickle_file,ylim=None):\n",
    "    rstate = read_pickle(pickle_file)\n",
    "    model_prefix = rstate.output_prefix\n",
    "    model_suffix = str(rstate.cut) if rstate.cut is not None else str(rstate.data_index[-1])\n",
    "    _, ax = plt.subplots(nrows=len(rstate.settings_list),ncols=2,figsize=[8,2*len(rstate.settings_list)])\n",
    "    for i, set_i in enumerate(rstate.settings_list):\n",
    "        model_name =  model_prefix+\"_\"+str(i)+\"_\"+model_suffix\n",
    "        total_iter = set_i.iterations\n",
    "        snapshot_manager = SnapshotManager(snapshot_dir=os.path.join(rstate.snapshot_dir, model_name), total_iterations=total_iter)\n",
    "        ldf = snapshot_manager.load_training_losses()\n",
    "        vdf = snapshot_manager.load_validation_losses()\n",
    "        ax[i,0].plot(ldf)\n",
    "        ax[i,1].plot(vdf)\n",
    "        ax[i,1].set_ylim(ylim)\n",
    "    #plt.show()\n",
    "    plt.savefig(os.path.join(rstate.output_dir , \"losses_\"+model_prefix+\"_\"+model_suffix+\".png\"))\n"
   ]
  },
  {
   "cell_type": "code",
   "execution_count": null,
   "metadata": {},
   "outputs": [],
   "source": [
    "plot_losses(os.path.join(\"storage\", \"output\", \"nbxd_166.pickle\"))\n"
   ]
  },
  {
   "cell_type": "code",
   "execution_count": null,
   "metadata": {},
   "outputs": [],
   "source": [
    "#rstate.delete_models = True\n",
    "#delete_model_dir(rstate)"
   ]
  },
  {
   "cell_type": "code",
   "execution_count": null,
   "metadata": {},
   "outputs": [],
   "source": []
  },
  {
   "cell_type": "code",
   "execution_count": null,
   "metadata": {},
   "outputs": [],
   "source": [
    "## pull pretrained models out of snapshot directories\n",
    "\n",
    "model_dir = \"storage/model_snapshots\"\n",
    "n = 5\n",
    "opts = [3,4,5,6]\n",
    "idx = 1\n",
    "\n",
    "i = 0\n",
    "for j in range(n):\n",
    "    for opt in opts:\n",
    "        filepath = os.path.join(model_dir,\"nbxd_\"+str(i)+\"_2024-11-09\",\"model\")\n",
    "        dest = os.path.join(model_dir,\"covid2024_\"+str(opt)+\"H_\"+str(j+idx)+\".pt\")\n",
    "        shutil.copyfile(filepath, dest)\n",
    "        i = i + 1\n"
   ]
  },
  {
   "cell_type": "code",
   "execution_count": null,
   "metadata": {},
   "outputs": [],
   "source": []
  }
 ],
 "metadata": {
  "kernelspec": {
   "display_name": "torch",
   "language": "python",
   "name": "python3"
  },
  "language_info": {
   "codemirror_mode": {
    "name": "ipython",
    "version": 3
   },
   "file_extension": ".py",
   "mimetype": "text/x-python",
   "name": "python",
   "nbconvert_exporter": "python",
   "pygments_lexer": "ipython3",
   "version": "3.11.5"
  }
 },
 "nbformat": 4,
 "nbformat_minor": 2
}
