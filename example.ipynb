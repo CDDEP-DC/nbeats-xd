{
 "cells": [
  {
   "cell_type": "code",
   "execution_count": 1,
   "metadata": {},
   "outputs": [],
   "source": [
    "\n",
    "## versions:\n",
    "## Python    : 3.11.5\n",
    "## numpy     : 1.26.0\n",
    "## torch     : 2.1.0\n",
    "## pandas    : 2.1.1\n",
    "\n",
    "# licensed under the Creative Commons - Attribution-NonCommercial 4.0\n",
    "# International license (CC BY-NC 4.0):\n",
    "# https://creativecommons.org/licenses/by-nc/4.0/. \n",
    "\n",
    "import os\n",
    "import io\n",
    "import sys\n",
    "import shutil\n",
    "import datetime\n",
    "from typing import Dict, List, Optional\n",
    "from copy import deepcopy\n",
    "\n",
    "import numpy as np\n",
    "import pandas as pd\n",
    "import torch as t\n",
    "from torch.utils.data import DataLoader\n",
    "from scipy import stats\n",
    "import matplotlib.pyplot as plt\n",
    "\n",
    "from common.torch.ops import empty_gpu_cache\n",
    "from common.sampler import ts_dataset\n",
    "from common.torch.snapshots import SnapshotManager\n",
    "from experiments.trainer import trainer_var\n",
    "from experiments.model import generic_dec_var\n",
    "from models.exog import TCN_encoder\n",
    "\n",
    "from data_utils.forecast import tryJSON, Struct, read_config, default_settings, make_training_fn\n",
    "from data_utils.forecast import init_target_data, load_exog_data, make_training_fn, generate_quantiles\n",
    "from data_utils.forecast import pickle_results, read_pickle, output_figs\n",
    "from data_utils.covid_hub import domain_defaults, specify_ensemble, output_csv, download_training_data"
   ]
  },
  {
   "cell_type": "markdown",
   "metadata": {},
   "source": [
    "`read_config()` returns configuration settings that don't change between models within an ensemble\n",
    "\n",
    "gets values from `config.json` if available\n",
    "\n",
    "see comments in `data_utils/forecast.py` for an explanation of entries"
   ]
  },
  {
   "cell_type": "code",
   "execution_count": 2,
   "metadata": {},
   "outputs": [],
   "source": [
    "rstate = read_config()"
   ]
  },
  {
   "cell_type": "code",
   "execution_count": 3,
   "metadata": {},
   "outputs": [
    {
     "data": {
      "text/plain": [
       "target_file = h_3ma.csv\n",
       "cut = None\n",
       "output_prefix = test\n",
       "data_dir = storage/training_data\n",
       "snapshot_dir = model_snapshots\n",
       "delete_models = False\n",
       "input_is_log = False\n",
       "input_is_sqrt = False\n",
       "log_transform = False\n",
       "sqrt_transform = True\n",
       "variance_scale = 1.0\n",
       "qtiles = [0.01, 0.025, 0.05, 0.1, 0.15, 0.2, 0.25, 0.3, 0.35, 0.4, 0.45, 0.5, 0.55, 0.6, 0.65, 0.7, 0.75, 0.8, 0.85, 0.9, 0.95, 0.975, 0.99]"
      ]
     },
     "execution_count": 3,
     "metadata": {},
     "output_type": "execute_result"
    }
   ],
   "source": [
    "rstate"
   ]
  },
  {
   "cell_type": "markdown",
   "metadata": {},
   "source": [
    "you can change the settings here or in `config.json`\n",
    "\n",
    "e.g., `rstate.cut` sets the train/test split index (None = train on all data)"
   ]
  },
  {
   "cell_type": "code",
   "execution_count": 4,
   "metadata": {},
   "outputs": [],
   "source": [
    "rstate.cut = 908"
   ]
  },
  {
   "cell_type": "markdown",
   "metadata": {},
   "source": [
    "`default_settings()` returns settings that can be changed between models within an ensemble\n",
    "\n",
    "gets defaults from `settings.json` if available\n",
    "\n",
    "see comments in `data_utils/forecast.py` for an explanation of entries"
   ]
  },
  {
   "cell_type": "code",
   "execution_count": 5,
   "metadata": {},
   "outputs": [],
   "source": [
    "settings = default_settings()"
   ]
  },
  {
   "cell_type": "markdown",
   "metadata": {},
   "source": [
    "we will change `settings.exog_vars` below, to specify which exogenous predictors to use"
   ]
  },
  {
   "cell_type": "code",
   "execution_count": 6,
   "metadata": {},
   "outputs": [
    {
     "data": {
      "text/plain": [
       "exog_vars = None\n",
       "iterations = 400\n",
       "init_LR = 0.00025\n",
       "batch_size = 128\n",
       "lookback = 4\n",
       "horizon = 40\n",
       "lfn_name = t_nll\n",
       "force_positive_forecast = False\n",
       "normalize_target = False\n",
       "use_windowed_norm = True\n",
       "use_static_cat = False\n",
       "nbeats_stacks = 8\n",
       "nbeats_hidden_dim = 512\n",
       "nbeats_dropout = 0.2\n",
       "encoder_k = 5\n",
       "encoder_n = None\n",
       "encoder_hidden_dim = 128\n",
       "encoder_dropout = 0.2\n",
       "enc_temporal = True\n",
       "static_cat_embed_dim = 3\n",
       "history_size_in_horizons = 60"
      ]
     },
     "execution_count": 6,
     "metadata": {},
     "output_type": "execute_result"
    }
   ],
   "source": [
    "settings"
   ]
  },
  {
   "cell_type": "markdown",
   "metadata": {},
   "source": [
    "`domain_defaults()` is meant to be a user-defined function\n",
    "\n",
    "returns a struct with instructions for reading or generating exogenous variables\n",
    "\n",
    "see `data_utils/covid_hub.py` for an example/explanation"
   ]
  },
  {
   "cell_type": "code",
   "execution_count": 7,
   "metadata": {},
   "outputs": [],
   "source": [
    "domain_specs = domain_defaults()"
   ]
  },
  {
   "cell_type": "markdown",
   "metadata": {},
   "source": [
    "`exog_vars` specifies which exogenous predictors to use by default\n",
    "\n",
    "the predictors in `var_names` are loaded/generated and available to use"
   ]
  },
  {
   "cell_type": "code",
   "execution_count": 8,
   "metadata": {},
   "outputs": [
    {
     "data": {
      "text/plain": [
       "exog_vars = ['doy', 'dewpC']\n",
       "lookback_opts = [3, 4, 5, 6]\n",
       "random_reps = 5\n",
       "var_names = ['tempC', 'dewpC', 'tsa_by_pop', 't', 't_decay', 'doy', 'vacc_rate', 't_voc', 'pop_density_2020', 'med_age_2023']\n",
       "var_files = ['tempC_7ma.csv', 'dewpC_7ma.csv', 'tsa_by_pop_daily.csv', None, None, None, 'vacc_full_pct_to_may23.csv', None, 'pop_density_2020.csv', 'med_age_2023.csv']\n",
       "var_fns = [None, None, None, <function proc_t at 0x1449fc900>, <function proc_tdecay at 0x1449fc9a0>, <function proc_doy at 0x1449fca40>, <function proc_fwd_const at 0x1449fc7c0>, <function proc_tvoc at 0x1449fd120>, <function proc_const at 0x1449fc860>, <function proc_const at 0x1449fc860>]\n",
       "var_norm = [<function norm_global_Z at 0x1449fcae0>, <function norm_global_Z at 0x1449fcae0>, <function norm_mean_scale at 0x1449fcb80>, None, None, None, <function norm_global_max at 0x1449fcea0>, None, <function norm_logZ_across at 0x1449fce00>, <function norm_Z_across at 0x1449fcd60>]"
      ]
     },
     "execution_count": 8,
     "metadata": {},
     "output_type": "execute_result"
    }
   ],
   "source": [
    "domain_specs"
   ]
  },
  {
   "cell_type": "markdown",
   "metadata": {},
   "source": [
    "`init_target_data()` reads in and optionally transforms target data\n",
    "\n",
    "sets timepoint indices and series identifiers; writes data to `rstate`\n"
   ]
  },
  {
   "cell_type": "code",
   "execution_count": 9,
   "metadata": {},
   "outputs": [],
   "source": [
    "rstate, settings = init_target_data(rstate, settings)"
   ]
  },
  {
   "cell_type": "markdown",
   "metadata": {},
   "source": [
    "`rstate.data_index` was set based on the index of `rstate.target_file`\n",
    "\n",
    "for exogenous data, the files and functions specified in `domain_defaults()` must generate data frames with the same index"
   ]
  },
  {
   "cell_type": "code",
   "execution_count": 10,
   "metadata": {},
   "outputs": [
    {
     "data": {
      "text/plain": [
       "('storage/training_data/h_3ma.csv',\n",
       " Index(['2020-07-14', '2020-07-15', '2020-07-16', '2020-07-17', '2020-07-18',\n",
       "        '2020-07-19', '2020-07-20', '2020-07-21', '2020-07-22', '2020-07-23',\n",
       "        ...\n",
       "        '2022-12-29', '2022-12-30', '2022-12-31', '2023-01-01', '2023-01-02',\n",
       "        '2023-01-03', '2023-01-04', '2023-01-05', '2023-01-06', '2023-01-07'],\n",
       "       dtype='object', name='date', length=908))"
      ]
     },
     "execution_count": 10,
     "metadata": {},
     "output_type": "execute_result"
    }
   ],
   "source": [
    "rstate.data_dir+\"/\"+rstate.target_file, rstate.data_index"
   ]
  },
  {
   "cell_type": "markdown",
   "metadata": {},
   "source": [
    "`load_exog_data()` appends exogenous predictors to rstate, using the data index generated above"
   ]
  },
  {
   "cell_type": "code",
   "execution_count": 11,
   "metadata": {},
   "outputs": [],
   "source": [
    "rstate, settings = load_exog_data(rstate, settings, domain_specs)"
   ]
  },
  {
   "cell_type": "markdown",
   "metadata": {},
   "source": [
    "`settings.exog_vars` now has the defaults from domain_specs"
   ]
  },
  {
   "cell_type": "code",
   "execution_count": 12,
   "metadata": {},
   "outputs": [
    {
     "data": {
      "text/plain": [
       "['doy', 'dewpC']"
      ]
     },
     "execution_count": 12,
     "metadata": {},
     "output_type": "execute_result"
    }
   ],
   "source": [
    "settings.exog_vars"
   ]
  },
  {
   "cell_type": "markdown",
   "metadata": {},
   "source": [
    "the data has been read into `rstate` as a dict keyed by series name\n",
    "\n",
    "each series is a data frame with rows as timepoints and columns as variables"
   ]
  },
  {
   "cell_type": "code",
   "execution_count": 13,
   "metadata": {},
   "outputs": [
    {
     "data": {
      "text/html": [
       "<div>\n",
       "<style scoped>\n",
       "    .dataframe tbody tr th:only-of-type {\n",
       "        vertical-align: middle;\n",
       "    }\n",
       "\n",
       "    .dataframe tbody tr th {\n",
       "        vertical-align: top;\n",
       "    }\n",
       "\n",
       "    .dataframe thead th {\n",
       "        text-align: right;\n",
       "    }\n",
       "</style>\n",
       "<table border=\"1\" class=\"dataframe\">\n",
       "  <thead>\n",
       "    <tr style=\"text-align: right;\">\n",
       "      <th></th>\n",
       "      <th>_NAT_SCALE</th>\n",
       "      <th>_SQRT</th>\n",
       "      <th>_SCALED</th>\n",
       "      <th>tempC</th>\n",
       "      <th>dewpC</th>\n",
       "      <th>tsa_by_pop</th>\n",
       "      <th>t</th>\n",
       "      <th>t_decay</th>\n",
       "      <th>doy</th>\n",
       "      <th>vacc_rate</th>\n",
       "      <th>t_voc</th>\n",
       "      <th>pop_density_2020</th>\n",
       "      <th>med_age_2023</th>\n",
       "    </tr>\n",
       "    <tr>\n",
       "      <th>date</th>\n",
       "      <th></th>\n",
       "      <th></th>\n",
       "      <th></th>\n",
       "      <th></th>\n",
       "      <th></th>\n",
       "      <th></th>\n",
       "      <th></th>\n",
       "      <th></th>\n",
       "      <th></th>\n",
       "      <th></th>\n",
       "      <th></th>\n",
       "      <th></th>\n",
       "      <th></th>\n",
       "    </tr>\n",
       "  </thead>\n",
       "  <tbody>\n",
       "    <tr>\n",
       "      <th>2020-07-14</th>\n",
       "      <td>7.50</td>\n",
       "      <td>2.738613</td>\n",
       "      <td>0.731925</td>\n",
       "      <td>1.293889</td>\n",
       "      <td>1.293812</td>\n",
       "      <td>0.351166</td>\n",
       "      <td>-2.000000</td>\n",
       "      <td>2.000000</td>\n",
       "      <td>0.142077</td>\n",
       "      <td>0.000000</td>\n",
       "      <td>0.663391</td>\n",
       "      <td>2.988978</td>\n",
       "      <td>-1.917719</td>\n",
       "    </tr>\n",
       "    <tr>\n",
       "      <th>2020-07-15</th>\n",
       "      <td>7.33</td>\n",
       "      <td>2.707397</td>\n",
       "      <td>0.723582</td>\n",
       "      <td>1.284049</td>\n",
       "      <td>1.229368</td>\n",
       "      <td>0.379593</td>\n",
       "      <td>-1.995590</td>\n",
       "      <td>1.997224</td>\n",
       "      <td>0.153005</td>\n",
       "      <td>0.000000</td>\n",
       "      <td>0.668305</td>\n",
       "      <td>2.988978</td>\n",
       "      <td>-1.917719</td>\n",
       "    </tr>\n",
       "    <tr>\n",
       "      <th>2020-07-16</th>\n",
       "      <td>8.33</td>\n",
       "      <td>2.886174</td>\n",
       "      <td>0.771362</td>\n",
       "      <td>1.271257</td>\n",
       "      <td>1.225462</td>\n",
       "      <td>0.452486</td>\n",
       "      <td>-1.991180</td>\n",
       "      <td>1.994452</td>\n",
       "      <td>0.163934</td>\n",
       "      <td>0.000000</td>\n",
       "      <td>0.673219</td>\n",
       "      <td>2.988978</td>\n",
       "      <td>-1.917719</td>\n",
       "    </tr>\n",
       "    <tr>\n",
       "      <th>2020-07-17</th>\n",
       "      <td>6.67</td>\n",
       "      <td>2.582634</td>\n",
       "      <td>0.690238</td>\n",
       "      <td>1.278145</td>\n",
       "      <td>1.217651</td>\n",
       "      <td>0.461160</td>\n",
       "      <td>-1.986770</td>\n",
       "      <td>1.991684</td>\n",
       "      <td>0.174863</td>\n",
       "      <td>0.000000</td>\n",
       "      <td>0.678133</td>\n",
       "      <td>2.988978</td>\n",
       "      <td>-1.917719</td>\n",
       "    </tr>\n",
       "    <tr>\n",
       "      <th>2020-07-18</th>\n",
       "      <td>6.67</td>\n",
       "      <td>2.582634</td>\n",
       "      <td>0.690238</td>\n",
       "      <td>1.314553</td>\n",
       "      <td>1.204957</td>\n",
       "      <td>0.414950</td>\n",
       "      <td>-1.982359</td>\n",
       "      <td>1.988920</td>\n",
       "      <td>0.185792</td>\n",
       "      <td>0.000000</td>\n",
       "      <td>0.683047</td>\n",
       "      <td>2.988978</td>\n",
       "      <td>-1.917719</td>\n",
       "    </tr>\n",
       "    <tr>\n",
       "      <th>...</th>\n",
       "      <td>...</td>\n",
       "      <td>...</td>\n",
       "      <td>...</td>\n",
       "      <td>...</td>\n",
       "      <td>...</td>\n",
       "      <td>...</td>\n",
       "      <td>...</td>\n",
       "      <td>...</td>\n",
       "      <td>...</td>\n",
       "      <td>...</td>\n",
       "      <td>...</td>\n",
       "      <td>...</td>\n",
       "      <td>...</td>\n",
       "    </tr>\n",
       "    <tr>\n",
       "      <th>2023-01-03</th>\n",
       "      <td>28.33</td>\n",
       "      <td>5.322593</td>\n",
       "      <td>1.422523</td>\n",
       "      <td>-0.622927</td>\n",
       "      <td>-0.240161</td>\n",
       "      <td>1.340116</td>\n",
       "      <td>1.982359</td>\n",
       "      <td>0.570627</td>\n",
       "      <td>-1.967213</td>\n",
       "      <td>1.954773</td>\n",
       "      <td>1.980344</td>\n",
       "      <td>2.988978</td>\n",
       "      <td>-1.917719</td>\n",
       "    </tr>\n",
       "    <tr>\n",
       "      <th>2023-01-04</th>\n",
       "      <td>28.67</td>\n",
       "      <td>5.354437</td>\n",
       "      <td>1.431034</td>\n",
       "      <td>-0.432033</td>\n",
       "      <td>-0.003864</td>\n",
       "      <td>1.202887</td>\n",
       "      <td>1.986770</td>\n",
       "      <td>0.569835</td>\n",
       "      <td>-1.956284</td>\n",
       "      <td>1.955164</td>\n",
       "      <td>1.985258</td>\n",
       "      <td>2.988978</td>\n",
       "      <td>-1.917719</td>\n",
       "    </tr>\n",
       "    <tr>\n",
       "      <th>2023-01-05</th>\n",
       "      <td>28.33</td>\n",
       "      <td>5.322593</td>\n",
       "      <td>1.422523</td>\n",
       "      <td>-0.291322</td>\n",
       "      <td>0.156270</td>\n",
       "      <td>1.230755</td>\n",
       "      <td>1.991180</td>\n",
       "      <td>0.569044</td>\n",
       "      <td>-1.945355</td>\n",
       "      <td>1.969576</td>\n",
       "      <td>1.990172</td>\n",
       "      <td>2.988978</td>\n",
       "      <td>-1.917719</td>\n",
       "    </tr>\n",
       "    <tr>\n",
       "      <th>2023-01-06</th>\n",
       "      <td>24.67</td>\n",
       "      <td>4.966890</td>\n",
       "      <td>1.327457</td>\n",
       "      <td>-0.242122</td>\n",
       "      <td>0.160176</td>\n",
       "      <td>1.237765</td>\n",
       "      <td>1.995590</td>\n",
       "      <td>0.568254</td>\n",
       "      <td>-1.934426</td>\n",
       "      <td>1.983987</td>\n",
       "      <td>1.995086</td>\n",
       "      <td>2.988978</td>\n",
       "      <td>-1.917719</td>\n",
       "    </tr>\n",
       "    <tr>\n",
       "      <th>2023-01-07</th>\n",
       "      <td>20.67</td>\n",
       "      <td>4.546427</td>\n",
       "      <td>1.215084</td>\n",
       "      <td>-0.282466</td>\n",
       "      <td>-0.004841</td>\n",
       "      <td>1.161290</td>\n",
       "      <td>2.000000</td>\n",
       "      <td>0.567466</td>\n",
       "      <td>-1.923497</td>\n",
       "      <td>1.998399</td>\n",
       "      <td>2.000000</td>\n",
       "      <td>2.988978</td>\n",
       "      <td>-1.917719</td>\n",
       "    </tr>\n",
       "  </tbody>\n",
       "</table>\n",
       "<p>908 rows × 13 columns</p>\n",
       "</div>"
      ],
      "text/plain": [
       "            _NAT_SCALE     _SQRT   _SCALED     tempC     dewpC  tsa_by_pop  \\\n",
       "date                                                                         \n",
       "2020-07-14        7.50  2.738613  0.731925  1.293889  1.293812    0.351166   \n",
       "2020-07-15        7.33  2.707397  0.723582  1.284049  1.229368    0.379593   \n",
       "2020-07-16        8.33  2.886174  0.771362  1.271257  1.225462    0.452486   \n",
       "2020-07-17        6.67  2.582634  0.690238  1.278145  1.217651    0.461160   \n",
       "2020-07-18        6.67  2.582634  0.690238  1.314553  1.204957    0.414950   \n",
       "...                ...       ...       ...       ...       ...         ...   \n",
       "2023-01-03       28.33  5.322593  1.422523 -0.622927 -0.240161    1.340116   \n",
       "2023-01-04       28.67  5.354437  1.431034 -0.432033 -0.003864    1.202887   \n",
       "2023-01-05       28.33  5.322593  1.422523 -0.291322  0.156270    1.230755   \n",
       "2023-01-06       24.67  4.966890  1.327457 -0.242122  0.160176    1.237765   \n",
       "2023-01-07       20.67  4.546427  1.215084 -0.282466 -0.004841    1.161290   \n",
       "\n",
       "                   t   t_decay       doy  vacc_rate     t_voc  \\\n",
       "date                                                            \n",
       "2020-07-14 -2.000000  2.000000  0.142077   0.000000  0.663391   \n",
       "2020-07-15 -1.995590  1.997224  0.153005   0.000000  0.668305   \n",
       "2020-07-16 -1.991180  1.994452  0.163934   0.000000  0.673219   \n",
       "2020-07-17 -1.986770  1.991684  0.174863   0.000000  0.678133   \n",
       "2020-07-18 -1.982359  1.988920  0.185792   0.000000  0.683047   \n",
       "...              ...       ...       ...        ...       ...   \n",
       "2023-01-03  1.982359  0.570627 -1.967213   1.954773  1.980344   \n",
       "2023-01-04  1.986770  0.569835 -1.956284   1.955164  1.985258   \n",
       "2023-01-05  1.991180  0.569044 -1.945355   1.969576  1.990172   \n",
       "2023-01-06  1.995590  0.568254 -1.934426   1.983987  1.995086   \n",
       "2023-01-07  2.000000  0.567466 -1.923497   1.998399  2.000000   \n",
       "\n",
       "            pop_density_2020  med_age_2023  \n",
       "date                                        \n",
       "2020-07-14          2.988978     -1.917719  \n",
       "2020-07-15          2.988978     -1.917719  \n",
       "2020-07-16          2.988978     -1.917719  \n",
       "2020-07-17          2.988978     -1.917719  \n",
       "2020-07-18          2.988978     -1.917719  \n",
       "...                      ...           ...  \n",
       "2023-01-03          2.988978     -1.917719  \n",
       "2023-01-04          2.988978     -1.917719  \n",
       "2023-01-05          2.988978     -1.917719  \n",
       "2023-01-06          2.988978     -1.917719  \n",
       "2023-01-07          2.988978     -1.917719  \n",
       "\n",
       "[908 rows x 13 columns]"
      ]
     },
     "execution_count": 13,
     "metadata": {},
     "output_type": "execute_result"
    }
   ],
   "source": [
    "rstate.series_dfs[\"11\"]"
   ]
  },
  {
   "cell_type": "markdown",
   "metadata": {},
   "source": [
    "the name of the target column was set automatically by `init_target_data()`"
   ]
  },
  {
   "cell_type": "code",
   "execution_count": 14,
   "metadata": {},
   "outputs": [
    {
     "data": {
      "text/plain": [
       "'_SQRT'"
      ]
     },
     "execution_count": 14,
     "metadata": {},
     "output_type": "execute_result"
    }
   ],
   "source": [
    "rstate.target_var"
   ]
  },
  {
   "cell_type": "markdown",
   "metadata": {},
   "source": [
    "`make_training_fn()` returns a function that trains a model  (it closes over training data and config settings)\n",
    "\n",
    "the resulting function takes `settings` and returns mean & variance forecasts\n",
    "\n",
    "the forecasts are matrices with rows = series and columns = timepoints\n",
    "\n",
    "the trained models are saved in `rstate.snapshot_dir`\n",
    "\n",
    "the training function can be used on its own or called in a loop with different settings to generate an ensemble\n"
   ]
  },
  {
   "cell_type": "code",
   "execution_count": 15,
   "metadata": {},
   "outputs": [],
   "source": [
    "training_fn = make_training_fn(rstate)"
   ]
  },
  {
   "cell_type": "markdown",
   "metadata": {},
   "source": [
    "to train an ensemble of models, we will generate a list of `settings`, one for each model\n",
    "\n",
    "`specify_ensemble` is a user-defined function that generates the list, based on info in `domain_specs`\n",
    "\n",
    "see `data_utils/covid_hub.py` for an example"
   ]
  },
  {
   "cell_type": "code",
   "execution_count": 16,
   "metadata": {},
   "outputs": [],
   "source": [
    "## maybe we don't really need 5 random reps\n",
    "domain_specs.random_reps = 1 \n",
    "\n",
    "## generate a list of settings structs having the desired variation for ensemble\n",
    "## save the list to rstate for posterity\n",
    "rstate.settings_list = specify_ensemble(settings, domain_specs)\n"
   ]
  },
  {
   "cell_type": "markdown",
   "metadata": {},
   "source": [
    "empty dicts for storing the forecasts from each model:"
   ]
  },
  {
   "cell_type": "code",
   "execution_count": 17,
   "metadata": {},
   "outputs": [],
   "source": [
    "mu_fc={}\n",
    "var_fc={}"
   ]
  },
  {
   "cell_type": "code",
   "execution_count": 18,
   "metadata": {},
   "outputs": [],
   "source": [
    "empty_gpu_cache() ## just in case?"
   ]
  },
  {
   "cell_type": "markdown",
   "metadata": {},
   "source": [
    "train each model in the ensemble and write its forecast to `mu_fc` and `var_fc` (keyed w/ a semi-descriptive name):"
   ]
  },
  {
   "cell_type": "code",
   "execution_count": 19,
   "metadata": {},
   "outputs": [
    {
     "name": "stdout",
     "output_type": "stream",
     "text": [
      "training  test_0_908\n"
     ]
    },
    {
     "name": "stderr",
     "output_type": "stream",
     "text": [
      "/Users/sasha/miniconda3/envs/torch/lib/python3.11/site-packages/torch/nn/utils/weight_norm.py:30: UserWarning: torch.nn.utils.weight_norm is deprecated in favor of torch.nn.utils.parametrizations.weight_norm.\n",
      "  warnings.warn(\"torch.nn.utils.weight_norm is deprecated in favor of torch.nn.utils.parametrizations.weight_norm.\")\n",
      "/Users/sasha/miniconda3/envs/torch/lib/python3.11/site-packages/torch/nn/utils/weight_norm.py:26: UserWarning: The operator 'aten::_weight_norm_interface' is not currently supported on the MPS backend and will fall back to run on the CPU. This may have performance implications. (Triggered internally at /Users/runner/work/_temp/anaconda/conda-bld/pytorch_1695391829313/work/aten/src/ATen/mps/MPSFallback.mm:13.)\n",
      "  return _weight_norm(v, g, self.dim)\n",
      "/Users/sasha/miniconda3/envs/torch/lib/python3.11/site-packages/torch/nn/utils/weight_norm.py:30: UserWarning: torch.nn.utils.weight_norm is deprecated in favor of torch.nn.utils.parametrizations.weight_norm.\n",
      "  warnings.warn(\"torch.nn.utils.weight_norm is deprecated in favor of torch.nn.utils.parametrizations.weight_norm.\")\n"
     ]
    },
    {
     "name": "stdout",
     "output_type": "stream",
     "text": [
      "training  test_1_908\n",
      "training  test_2_908\n"
     ]
    },
    {
     "name": "stderr",
     "output_type": "stream",
     "text": [
      "/Users/sasha/miniconda3/envs/torch/lib/python3.11/site-packages/torch/nn/utils/weight_norm.py:30: UserWarning: torch.nn.utils.weight_norm is deprecated in favor of torch.nn.utils.parametrizations.weight_norm.\n",
      "  warnings.warn(\"torch.nn.utils.weight_norm is deprecated in favor of torch.nn.utils.parametrizations.weight_norm.\")\n"
     ]
    },
    {
     "name": "stdout",
     "output_type": "stream",
     "text": [
      "training  test_3_908\n"
     ]
    },
    {
     "name": "stderr",
     "output_type": "stream",
     "text": [
      "/Users/sasha/miniconda3/envs/torch/lib/python3.11/site-packages/torch/nn/utils/weight_norm.py:30: UserWarning: torch.nn.utils.weight_norm is deprecated in favor of torch.nn.utils.parametrizations.weight_norm.\n",
      "  warnings.warn(\"torch.nn.utils.weight_norm is deprecated in favor of torch.nn.utils.parametrizations.weight_norm.\")\n"
     ]
    }
   ],
   "source": [
    "\n",
    "## ensemble loop\n",
    "for i, set_i in enumerate(rstate.settings_list):\n",
    "    model_name = rstate.output_prefix+\"_\"+str(i)\n",
    "    model_suffix = str(rstate.cut) if rstate.cut is not None else str(rstate.data_index[-1])\n",
    "    model_name = model_name+\"_\"+model_suffix\n",
    "    print(\"training \",model_name)\n",
    "    mu_fc[model_name], var_fc[model_name] = training_fn(model_name, set_i) \n"
   ]
  },
  {
   "cell_type": "markdown",
   "metadata": {},
   "source": [
    "forecast shape for each model is [series, time]\n",
    "\n",
    "ensemble the dict values using median across models\n",
    "\n",
    "write results to `rstate`"
   ]
  },
  {
   "cell_type": "code",
   "execution_count": 20,
   "metadata": {},
   "outputs": [],
   "source": [
    "\n",
    "mu_fc[\"ensemble\"] = np.median(np.stack([mu_fc[k] for k in mu_fc]),axis=0)\n",
    "var_fc[\"ensemble\"] = np.median(np.stack([var_fc[k] for k in var_fc]),axis=0)\n",
    "\n",
    "rstate.mu_fc = mu_fc\n",
    "rstate.var_fc = var_fc\n"
   ]
  },
  {
   "cell_type": "markdown",
   "metadata": {},
   "source": [
    "`generate_quantiles()` goes through each entry in `rstate.mu_fc` and `rstate.var_fc`\n",
    "\n",
    "and generates dicts containing forecast quantiles for each model (and \"ensemble\")\n",
    "\n",
    "see comments in `data_utils/forecast.py` for details"
   ]
  },
  {
   "cell_type": "code",
   "execution_count": 21,
   "metadata": {},
   "outputs": [],
   "source": [
    "rstate = generate_quantiles(rstate)"
   ]
  },
  {
   "cell_type": "markdown",
   "metadata": {},
   "source": [
    "optional: save rstate, which contains all training data, forecasts, and ensemble settings\n",
    "\n",
    "`pickle_results()` writes it to ./storage"
   ]
  },
  {
   "cell_type": "code",
   "execution_count": 22,
   "metadata": {},
   "outputs": [],
   "source": [
    "pickle_results(rstate)"
   ]
  },
  {
   "cell_type": "markdown",
   "metadata": {},
   "source": [
    "plot some forecasts"
   ]
  },
  {
   "cell_type": "code",
   "execution_count": 23,
   "metadata": {},
   "outputs": [
    {
     "data": {
      "image/png": "[encoded data removed]",
      "text/plain": [
       "<Figure size 700x500 with 1 Axes>"
      ]
     },
     "metadata": {},
     "output_type": "display_data"
    },
    {
     "data": {
      "image/png": "[encoded data removed]",
      "text/plain": [
       "<Figure size 700x500 with 1 Axes>"
      ]
     },
     "metadata": {},
     "output_type": "display_data"
    },
    {
     "data": {
      "image/png": "[encoded data removed]",
      "text/plain": [
       "<Figure size 700x500 with 1 Axes>"
      ]
     },
     "metadata": {},
     "output_type": "display_data"
    }
   ],
   "source": [
    "output_figs(rstate, settings.horizon, [20, 4], 400)"
   ]
  },
  {
   "cell_type": "markdown",
   "metadata": {},
   "source": [
    "generate csv for submitting to covid-19 forecast hub"
   ]
  },
  {
   "cell_type": "code",
   "execution_count": 24,
   "metadata": {},
   "outputs": [
    {
     "name": "stdout",
     "output_type": "stream",
     "text": [
      "writing  storage/2023-01-17-OHT_JHU-nbxd.csv\n"
     ]
    }
   ],
   "source": [
    "output_csv(rstate, 10)"
   ]
  },
  {
   "cell_type": "markdown",
   "metadata": {},
   "source": [
    "delete the trained models if we no longer need them:"
   ]
  },
  {
   "cell_type": "code",
   "execution_count": 25,
   "metadata": {},
   "outputs": [],
   "source": [
    "if rstate.delete_models:\n",
    "    try:\n",
    "        shutil.rmtree(rstate.snapshot_dir)\n",
    "    except:\n",
    "        pass\n"
   ]
  },
  {
   "cell_type": "code",
   "execution_count": null,
   "metadata": {},
   "outputs": [],
   "source": []
  },
  {
   "cell_type": "markdown",
   "metadata": {},
   "source": [
    "automate the above"
   ]
  },
  {
   "cell_type": "code",
   "execution_count": 26,
   "metadata": {},
   "outputs": [],
   "source": [
    "def init_rstate(cut, random_reps):\n",
    "    rstate = read_config()\n",
    "    rstate.cut = cut\n",
    "    settings = default_settings()\n",
    "    domain_specs = domain_defaults()\n",
    "    domain_specs.random_reps = random_reps\n",
    "    rstate, settings = init_target_data(rstate, settings)\n",
    "    rstate, settings = load_exog_data(rstate, settings, domain_specs)\n",
    "    rstate.settings_list = specify_ensemble(settings, domain_specs)\n",
    "    return rstate\n",
    "\n",
    "\n",
    "def generate_ensemble(rstate):\n",
    "    mu_fc={}\n",
    "    var_fc={}\n",
    "    empty_gpu_cache()\n",
    "    training_fn = make_training_fn(rstate)\n",
    "\n",
    "    ## ensemble loop\n",
    "    for i, set_i in enumerate(rstate.settings_list):\n",
    "        model_name = rstate.output_prefix+\"_\"+str(i)\n",
    "        model_suffix = str(rstate.cut) if rstate.cut is not None else str(rstate.data_index[-1])\n",
    "        model_name = model_name+\"_\"+model_suffix\n",
    "        print(\"training \",model_name)\n",
    "        mu_fc[model_name], var_fc[model_name] = training_fn(model_name, set_i) \n",
    "\n",
    "    mu_fc[\"ensemble\"] = np.median(np.stack([mu_fc[k] for k in mu_fc]),axis=0)\n",
    "    var_fc[\"ensemble\"] = np.median(np.stack([var_fc[k] for k in var_fc]),axis=0)\n",
    "    rstate.mu_fc = mu_fc\n",
    "    rstate.var_fc = var_fc\n",
    "    rstate = generate_quantiles(rstate)\n",
    "\n",
    "    return rstate\n",
    "\n",
    "\n",
    "def delete_model_dir(rstate):\n",
    "    if rstate.delete_models:\n",
    "        try:\n",
    "            shutil.rmtree(rstate.snapshot_dir)\n",
    "        except:\n",
    "            pass\n"
   ]
  },
  {
   "cell_type": "code",
   "execution_count": 27,
   "metadata": {},
   "outputs": [],
   "source": [
    "def generate_current_forecast(random_reps):\n",
    "    download_training_data() ## get the latest training data\n",
    "    forecast_delay = 10 ## days from end of most recent data to expected \"day 0\" of forecast\n",
    "    rstate = init_rstate(None, random_reps) ## use all avail data\n",
    "    rstate = generate_ensemble(rstate)\n",
    "    pickle_results(rstate)\n",
    "    output_figs(rstate, rstate.settings_list[0].horizon, [20, 4], 400)\n",
    "    output_csv(rstate, forecast_delay)\n",
    "\n",
    "def run_test(cut, forecast_delay, random_reps):\n",
    "    rstate = init_rstate(cut, random_reps)\n",
    "    rstate = generate_ensemble(rstate)\n",
    "    pickle_results(rstate)\n",
    "    output_figs(rstate, rstate.settings_list[0].horizon, [20, 4], 400)\n",
    "    output_csv(rstate, forecast_delay)\n",
    "    delete_model_dir(rstate)\n",
    "\n",
    "def test_all_2023(random_reps):\n",
    "    ## '2023-06-24' --> forecast day 0 = 10 day delay from data end (date on covid hub = 8 days after data end)\n",
    "    ## <-- '2023-06-10' : forecast day 0 = 2 day delay from data end (date on covid hub = data end date)\n",
    "    test_cut_vals1 = list(range(901,1068,7))\n",
    "    test_cut_vals2 = list(range(1068,1258,7))\n",
    "    test_cut_vals = test_cut_vals1 + test_cut_vals2\n",
    "    forecast_delay_days = [10 if x > 1067 else 2 for x in test_cut_vals]\n",
    "    for (cut,forecast_delay) in zip(test_cut_vals, forecast_delay_days):\n",
    "        run_test(cut, forecast_delay, random_reps)\n",
    "\n"
   ]
  },
  {
   "cell_type": "code",
   "execution_count": null,
   "metadata": {},
   "outputs": [],
   "source": []
  },
  {
   "cell_type": "markdown",
   "metadata": {},
   "source": [
    "graph training losses\n",
    "\n",
    "note, ensembling not-quite-converged models seems to work better than running more iterations\n"
   ]
  },
  {
   "cell_type": "code",
   "execution_count": 14,
   "metadata": {},
   "outputs": [
    {
     "data": {
      "image/png": "[encoded data removed]",
      "text/plain": [
       "<Figure size 400x300 with 1 Axes>"
      ]
     },
     "metadata": {},
     "output_type": "display_data"
    }
   ],
   "source": [
    "rstate = read_pickle(\"storage/test_908.pickle\")\n",
    "#print([k for k in rstate.mu_fc])\n",
    "k = [k for k in rstate.mu_fc][0]\n",
    "total_iter = rstate.settings_list[0].iterations\n",
    "snapshot_manager = SnapshotManager(snapshot_dir=os.path.join(rstate.snapshot_dir, k), total_iterations=total_iter)\n",
    "ldf = snapshot_manager.load_training_losses()\n",
    "_, ax = plt.subplots(figsize=[4,3])\n",
    "ax.plot(ldf)\n",
    "plt.show()"
   ]
  },
  {
   "cell_type": "code",
   "execution_count": null,
   "metadata": {},
   "outputs": [],
   "source": []
  }
 ],
 "metadata": {
  "kernelspec": {
   "display_name": "torch",
   "language": "python",
   "name": "python3"
  },
  "language_info": {
   "codemirror_mode": {
    "name": "ipython",
    "version": 3
   },
   "file_extension": ".py",
   "mimetype": "text/x-python",
   "name": "python",
   "nbconvert_exporter": "python",
   "pygments_lexer": "ipython3",
   "version": "3.11.5"
  }
 },
 "nbformat": 4,
 "nbformat_minor": 2
}
